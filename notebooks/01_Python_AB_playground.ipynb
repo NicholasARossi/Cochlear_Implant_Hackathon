{
 "cells": [
  {
   "cell_type": "code",
   "execution_count": 29,
   "metadata": {},
   "outputs": [
    {
     "name": "stdout",
     "output_type": "stream",
     "text": [
      "The autoreload extension is already loaded. To reload it, use:\n",
      "  %reload_ext autoreload\n"
     ]
    }
   ],
   "source": [
    "%load_ext autoreload\n",
    "%autoreload 2\n",
    "import sys\n",
    "import os\n",
    "sys.path.append(os.path.abspath('../../AB-Generic-Python-Toolbox/'))\n",
    "import numpy as np\n",
    "from pathlib import Path\n",
    "import numpy as np\n",
    "import pyaudio as pa\n",
    "from scipy.signal import resample\n",
    "from scipy.io.wavfile import read as wavread\n",
    "\n",
    "# load the toolbox package\n",
    "from GpyT.Demo.proceduralDemo import demo4_procedural"
   ]
  },
  {
   "cell_type": "markdown",
   "metadata": {},
   "source": [
    "# Notes\n",
    "* The only I/O constrainst are really around the vocoder\n",
    "* These include charge balance (all electrodes integrate to zero over time)\n",
    "* Also include current thresholds\n",
    "\n",
    "* The submissions are the electrodagram matricies, not the audio from the vocoder"
   ]
  },
  {
   "cell_type": "markdown",
   "metadata": {},
   "source": [
    "# strategy for continuous ML loop\n",
    "!['figure'](figures/results.png)"
   ]
  },
  {
   "cell_type": "markdown",
   "metadata": {},
   "source": [
    "# Run Demo"
   ]
  },
  {
   "cell_type": "code",
   "execution_count": 41,
   "metadata": {},
   "outputs": [
    {
     "name": "stdout",
     "output_type": "stream",
     "text": [
      "Channels [ 0  1  2  3  4  5  6  7  8  9 10 11 12 13 14 15] are very similar to the default output.\n"
     ]
    }
   ],
   "source": [
    "\n",
    "results  = demo4_procedural()"
   ]
  },
  {
   "cell_type": "code",
   "execution_count": 42,
   "metadata": {},
   "outputs": [],
   "source": [
    "wavIn = wavread(results['sourceName'])\n",
    "wavData = wavIn[1]/(2**15-1)\n",
    "wavFs = wavIn[0]\n",
    "\n",
    "wavResampled = resample(wavData,((results['audioFs']/wavFs)*wavData.shape[0]).astype(int))\n",
    "input1 = np.float32(np.concatenate((wavResampled,np.zeros(results['audioFs']))))\n",
    "\n",
    "output1 = np.float32(np.concatenate((np.zeros(results['audioFs']),results['audioOut'])))\n",
    "p = pa.PyAudio()\n",
    "devInfo = p.get_default_output_device_info()\n",
    "devIndex = devInfo['index']\n",
    "nChan = 1\n",
    "\n",
    "stream = p.open(format=pa.paFloat32,\n",
    "channels=nChan,\n",
    "rate=results['audioFs'],\n",
    "output=True,\n",
    "output_device_index = devIndex\n",
    ")\n",
    "\n",
    "inData = input1.astype(np.float32).tobytes()\n",
    "outData1 = output1.astype(np.float32).tobytes()\n",
    "\n",
    "\n",
    "stream.write(outData1)\n",
    "\n",
    "\n",
    "stream.write(inData)\n",
    "stream.close()\n",
    "    "
   ]
  },
  {
   "cell_type": "markdown",
   "metadata": {},
   "source": [
    "# testing on a different file"
   ]
  },
  {
   "cell_type": "code",
   "execution_count": 35,
   "metadata": {},
   "outputs": [],
   "source": [
    "example_file=os.path.abspath('../sample_data/sentence1_55_clean.wav')"
   ]
  },
  {
   "cell_type": "code",
   "execution_count": 36,
   "metadata": {},
   "outputs": [],
   "source": [
    "results  = demo4_procedural(example_file)"
   ]
  },
  {
   "cell_type": "code",
   "execution_count": 37,
   "metadata": {},
   "outputs": [],
   "source": [
    "wavIn = wavread(results['sourceName'])\n",
    "wavData = wavIn[1]/(2**15-1)\n",
    "wavFs = wavIn[0]\n",
    "\n",
    "wavResampled = resample(wavData,((results['audioFs']/wavFs)*wavData.shape[0]).astype(int))\n",
    "input1 = np.float32(np.concatenate((wavResampled,np.zeros(results['audioFs']))))\n",
    "\n",
    "output1 = np.float32(np.concatenate((np.zeros(results['audioFs']),results['audioOut'])))\n",
    "p = pa.PyAudio()\n",
    "devInfo = p.get_default_output_device_info()\n",
    "devIndex = devInfo['index']\n",
    "nChan = 1\n",
    "\n",
    "stream = p.open(format=pa.paFloat32,\n",
    "channels=nChan,\n",
    "rate=results['audioFs'],\n",
    "output=True,\n",
    "output_device_index = devIndex\n",
    ")\n",
    "\n",
    "inData = input1.astype(np.float32).tobytes()\n",
    "outData1 = output1.astype(np.float32).tobytes()\n",
    "\n",
    "\n",
    "stream.write(outData1)\n",
    "\n",
    "\n",
    "stream.write(inData)\n",
    "stream.close()"
   ]
  },
  {
   "cell_type": "code",
   "execution_count": null,
   "metadata": {},
   "outputs": [],
   "source": []
  }
 ],
 "metadata": {
  "kernelspec": {
   "display_name": "Python 3",
   "language": "python",
   "name": "python3"
  },
  "language_info": {
   "codemirror_mode": {
    "name": "ipython",
    "version": 3
   },
   "file_extension": ".py",
   "mimetype": "text/x-python",
   "name": "python",
   "nbconvert_exporter": "python",
   "pygments_lexer": "ipython3",
   "version": "3.7.2"
  }
 },
 "nbformat": 4,
 "nbformat_minor": 2
}
