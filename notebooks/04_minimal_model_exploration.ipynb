{
 "cells": [
  {
   "cell_type": "code",
   "execution_count": 1,
   "metadata": {},
   "outputs": [],
   "source": [
    "%load_ext autoreload\n",
    "%autoreload 2\n",
    "import sys\n",
    "import os\n",
    "import numpy as np\n",
    "sys.path.append(os.path.abspath('../software/AB_imports/'))\n",
    "\n",
    "# Import the rest of the GpyT subpackage functions for the demo here\n",
    "from Frontend.readWav import readWavFunc\n",
    "from Frontend.tdFilter import tdFilterFunc\n",
    "from Agc.dualLoopTdAgc import dualLoopTdAgcFunc\n",
    "from WinBuf.winBuf import winBufFunc\n",
    "from Filterbank.fftFilterbank import fftFilterbankFunc\n",
    "from Filterbank.hilbertEnvelope import hilbertEnvelopeFunc\n",
    "from Filterbank.channelEnergy import channelEnergyFunc\n",
    "from NoiseReduction.noiseReduction import noiseReductionFunc\n",
    "from PostFilterbank.specPeakLocator import specPeakLocatorFunc\n",
    "from PostFilterbank.currentSteeringWeights import currentSteeringWeightsFunc\n",
    "from PostFilterbank.carrierSynthesis import carrierSynthesisFunc\n",
    "from Mapping.f120Mapping import f120MappingFunc\n",
    "from Electrodogram.f120Electrodogram import f120ElectrodogramFunc\n",
    "from Validation.validateOutput import validateOutputFunc\n",
    "from Vocoder.vocoder import vocoderFunc"
   ]
  },
  {
   "cell_type": "code",
   "execution_count": 3,
   "metadata": {},
   "outputs": [],
   "source": [
    "wavefile=os.path.abspath('../sample_data/sentence1_55_clean.wav')\n",
    "stratWindow = 0.5 * (np.blackman(256) + np.hanning(256))\n",
    "stratWindow = stratWindow.reshape(1, stratWindow.size)"
   ]
  },
  {
   "cell_type": "code",
   "execution_count": 4,
   "metadata": {},
   "outputs": [],
   "source": [
    "parStrat = {\n",
    "    'wavFile': wavefile,  # this should be a complete absolute path to your sound file of choice\n",
    "    'fs': 17400,  # this value matches implant internal audio rate. incoming wav files resampled to match\n",
    "    'nFft': 256,\n",
    "    'nHop': 20,\n",
    "    'nChan': 15,  # do not change\n",
    "    'startBin': 6,\n",
    "    'nBinLims': np.array([2, 2, 1, 2, 2, 2, 3, 4, 4, 5, 6, 7, 8, 10, 56]),\n",
    "    'window': stratWindow,\n",
    "    'pulseWidth': 18,  # DO NOT CHANGE\n",
    "    'verbose': 0\n",
    "}\n",
    "\n",
    "parReadWav = {\n",
    "    'parent': parStrat,\n",
    "    'tStartEnd': [],\n",
    "    'iChannel': 1,\n",
    "}\n",
    "\n",
    "\n",
    "\n",
    "parElectrodogram = {\n",
    "    'parent': parStrat,\n",
    "    'cathodicFirst': True,\n",
    "    'channelOrder': np.array([1, 5, 9, 13, 2, 6, 10, 14, 3, 7, 11, 15, 4, 8, 12]),\n",
    "# DO NOT CHANGE (different order of pulses will have no effect in vocoder output)\n",
    "    'enablePlot': True,\n",
    "    'outputFs': 55556,\n",
    "# DO NOT CHANGE (validation depends on matched output rate, vocoder would not produce different results at higher or lower Fs when parameters match accordingly)\n",
    "}\n",
    "\n",
    "parValidate = {\n",
    "    'parent': parStrat,\n",
    "    'lengthTolerance': 50,\n",
    "    'saveIfSimilar': True,  # save even if the are too similar to default strategy\n",
    "    'differenceThreshold': 1,\n",
    "    'maxSimilarChannels': 8,\n",
    "    'elGramFs': parElectrodogram['outputFs'],\n",
    "# this is linked to the previous electrodogram generation step, it should always match [55556 Hz]\n",
    "    'outFile': None\n",
    "# This should be the full path including filename to a location where electrode matrix output will be saved after validation\n",
    "}"
   ]
  },
  {
   "cell_type": "code",
   "execution_count": 6,
   "metadata": {},
   "outputs": [],
   "source": [
    "results = {}  # initialize demo results structure\n",
    "\n",
    "# read specified wav file and scale\n",
    "results['sig_smp_wavIn'], results['sourceName'] = readWavFunc(\n",
    "    parReadWav)  # load the file specified in parReadWav; assume correct scaling in wav file (111.6 dB SPL peak full-scale)\n",
    "\n"
   ]
  },
  {
   "cell_type": "code",
   "execution_count": 8,
   "metadata": {},
   "outputs": [
    {
     "data": {
      "text/plain": [
       "(1, 90480)"
      ]
     },
     "execution_count": 8,
     "metadata": {},
     "output_type": "execute_result"
    }
   ],
   "source": [
    "results['sig_smp_wavIn'].shape"
   ]
  },
  {
   "cell_type": "code",
   "execution_count": 12,
   "metadata": {},
   "outputs": [
    {
     "data": {
      "text/plain": [
       "array([ 9.04810000e+04    +0.j        ,  8.35936201e+04-34625.19696039j,\n",
       "        6.39800216e+04-63979.02156176j,  3.46261970e+04-83592.62010162j,\n",
       "        1.00000000e+00-90480.j        , -3.46241970e+04-83592.62010162j,\n",
       "       -6.39780216e+04-63979.02156176j, -8.35916201e+04-34625.19696039j,\n",
       "       -9.04790000e+04    +0.j        ])"
      ]
     },
     "execution_count": 12,
     "metadata": {},
     "output_type": "execute_result"
    }
   ],
   "source": [
    "np.fft.rfft(results['sig_smp_wavIn'].shape,n=16)"
   ]
  },
  {
   "cell_type": "code",
   "execution_count": null,
   "metadata": {},
   "outputs": [],
   "source": [
    "# How does the input shape transoform to the output shape?"
   ]
  }
 ],
 "metadata": {
  "kernelspec": {
   "display_name": "Python 3",
   "language": "python",
   "name": "python3"
  },
  "language_info": {
   "codemirror_mode": {
    "name": "ipython",
    "version": 3
   },
   "file_extension": ".py",
   "mimetype": "text/x-python",
   "name": "python",
   "nbconvert_exporter": "python",
   "pygments_lexer": "ipython3",
   "version": "3.7.2"
  }
 },
 "nbformat": 4,
 "nbformat_minor": 2
}
