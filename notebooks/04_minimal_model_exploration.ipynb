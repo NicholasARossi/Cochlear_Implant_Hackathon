{
 "cells": [
  {
   "cell_type": "code",
   "execution_count": 151,
   "metadata": {},
   "outputs": [
    {
     "name": "stdout",
     "output_type": "stream",
     "text": [
      "The autoreload extension is already loaded. To reload it, use:\n",
      "  %reload_ext autoreload\n"
     ]
    }
   ],
   "source": [
    "%load_ext autoreload\n",
    "%autoreload 2\n",
    "import sys\n",
    "import os\n",
    "import numpy as np\n",
    "\n",
    "sys.path.append(os.path.abspath('../../Cochlear_Implant_Hackathon/'))\n",
    "\n",
    "from software.models.minimal_model import basic_model\n",
    "from software.fitness_functions.delta_wav import compute_wavfile_delta\n",
    "# Import the rest of the GpyT subpackage functions for the demo here\n",
    "\n",
    "from software.AB_imports.Demo.proceduralDemo import demo4_procedural\n",
    "from scipy.fftpack import fft,rfft,irfft,ifft\n",
    "from sklearn.preprocessing import StandardScaler\n",
    "import pyaudio as pa\n",
    "from scipy.signal import resample\n",
    "from scipy.io.wavfile import read as wavread\n",
    "import pandas as pd\n",
    "import matplotlib.pyplot as plt\n",
    "import seaborn as sns\n",
    "try:\n",
    "    plt.style.use('rossidata')\n",
    "except:\n",
    "    pass"
   ]
  },
  {
   "cell_type": "markdown",
   "metadata": {},
   "source": [
    "# Loading Original Demo\n"
   ]
  },
  {
   "cell_type": "code",
   "execution_count": 148,
   "metadata": {},
   "outputs": [
    {
     "name": "stderr",
     "output_type": "stream",
     "text": [
      "/Users/nicholas.rossi/Documents/Personal/Cochlear_Implant_Hackathon/software/AB_imports/Filterbank/hilbertEnvelope.py:73: RuntimeWarning: divide by zero encountered in log2\n",
      "  env[i,:] = np.log2(env[i,:]);\n",
      "/Users/nicholas.rossi/Documents/Personal/Cochlear_Implant_Hackathon/software/AB_imports/NoiseReduction/noiseReduction.py:76: RuntimeWarning: divide by zero encountered in log10\n",
      "  logA = np.maximum(-100,20*np.log10(A))\n",
      "/Users/nicholas.rossi/Documents/Personal/Cochlear_Implant_Hackathon/software/AB_imports/Validation/validateOutput.py:81: UserWarning: No Validation file found! Validation process will be skipped, results may not be accepted for final entry submission!!\n",
      "  warnings.warn('No Validation file found! Validation process will be skipped, results may not be accepted for final entry submission!!')\n"
     ]
    }
   ],
   "source": [
    "input_file_path=os.path.abspath('../sample_data/sentence1_55_clean.wav')\n",
    "\n",
    "results  = demo4_procedural(input_file_path)"
   ]
  },
  {
   "cell_type": "markdown",
   "metadata": {},
   "source": [
    "# demo performance\n",
    "This is the original transformation model, this is meant for benchmarking"
   ]
  },
  {
   "cell_type": "code",
   "execution_count": 134,
   "metadata": {},
   "outputs": [],
   "source": [
    "wavIn = wavread(results['sourceName'])\n",
    "wavData = wavIn[1]/(2**15-1)\n",
    "wavFs = wavIn[0]\n",
    "\n",
    "wavResampled = resample(wavData,((results['audioFs']/wavFs)*wavData.shape[0]).astype(int))\n",
    "input1 = np.float32(np.concatenate((wavResampled,np.zeros(results['audioFs']))))\n",
    "\n",
    "output1 = np.float32(np.concatenate((np.zeros(results['audioFs']),results['audioOut'])))\n",
    "p = pa.PyAudio()\n",
    "devInfo = p.get_default_output_device_info()\n",
    "devIndex = devInfo['index']\n",
    "nChan = 1\n",
    "\n",
    "stream = p.open(format=pa.paFloat32,\n",
    "channels=nChan,\n",
    "rate=results['audioFs'],\n",
    "output=True,\n",
    "output_device_index = devIndex\n",
    ")\n",
    "\n",
    "inData = input1.astype(np.float32).tobytes()\n",
    "outData1 = output1.astype(np.float32).tobytes()\n",
    "\n",
    "\n",
    "stream.write(outData1)\n",
    "\n",
    "\n",
    "stream.write(inData)\n",
    "stream.close()\n"
   ]
  },
  {
   "cell_type": "code",
   "execution_count": 149,
   "metadata": {},
   "outputs": [
    {
     "name": "stdout",
     "output_type": "stream",
     "text": [
      "Demo Score : 1.464025855064392\n"
     ]
    }
   ],
   "source": [
    "demo_score=compute_wavfile_delta(wavIn[1],wavIn[0],results['audioOut'],results['audioFs'])\n",
    "print(f'Demo Score : {demo_score}')"
   ]
  },
  {
   "cell_type": "markdown",
   "metadata": {},
   "source": [
    "# Minimal model performance\n",
    "This is the performance of the minimal model, it's doing the absolute basics to return a rational answer"
   ]
  },
  {
   "cell_type": "code",
   "execution_count": 143,
   "metadata": {},
   "outputs": [],
   "source": [
    "results=basic_model(input_file_path)"
   ]
  },
  {
   "cell_type": "code",
   "execution_count": 125,
   "metadata": {},
   "outputs": [],
   "source": [
    "# Testing Audio Files"
   ]
  },
  {
   "cell_type": "code",
   "execution_count": 132,
   "metadata": {},
   "outputs": [],
   "source": [
    "wavIn = wavread(results['sourceName'])\n",
    "wavData = wavIn[1]/(2**15-1)\n",
    "wavFs = wavIn[0]\n",
    "\n",
    "wavResampled = resample(wavData,((results['audioFs']/wavFs)*wavData.shape[0]).astype(int))\n",
    "input1 = np.float32(np.concatenate((wavResampled,np.zeros(results['audioFs']))))\n",
    "\n",
    "output1 = np.float32(np.concatenate((np.zeros(results['audioFs']),results['audioOut'])))\n",
    "p = pa.PyAudio()\n",
    "devInfo = p.get_default_output_device_info()\n",
    "devIndex = devInfo['index']\n",
    "nChan = 1\n",
    "\n",
    "stream = p.open(format=pa.paFloat32,\n",
    "channels=nChan,\n",
    "rate=results['audioFs'],\n",
    "output=True,\n",
    "output_device_index = devIndex\n",
    ")\n",
    "\n",
    "inData = input1.astype(np.float32).tobytes()\n",
    "outData1 = output1.astype(np.float32).tobytes()\n",
    "\n",
    "\n",
    "stream.write(outData1)\n",
    "\n",
    "\n",
    "stream.write(inData)\n",
    "stream.close()"
   ]
  },
  {
   "cell_type": "code",
   "execution_count": 147,
   "metadata": {},
   "outputs": [
    {
     "name": "stdout",
     "output_type": "stream",
     "text": [
      "Minimal model Score : 1.0696932077407837 \n"
     ]
    }
   ],
   "source": [
    "minimal_model_score=compute_wavfile_delta(wavIn[1],wavIn[0],results['audioOut'],results['audioFs'])\n",
    "print(f'Minimal model Score : {minimal_model_score} ')\n",
    "\n"
   ]
  },
  {
   "cell_type": "code",
   "execution_count": 158,
   "metadata": {},
   "outputs": [],
   "source": [
    "perfect_score=compute_wavfile_delta(wavIn[1],wavIn[0],wavIn[1],wavIn[0])"
   ]
  },
  {
   "cell_type": "code",
   "execution_count": 162,
   "metadata": {},
   "outputs": [
    {
     "data": {
      "text/plain": [
       "Text(0.5, 1.0, 'Scores \\n (higher = better)')"
      ]
     },
     "execution_count": 162,
     "metadata": {},
     "output_type": "execute_result"
    },
    {
     "data": {
      "image/png": "[encoded data removed]",
      "text/plain": [
       "<Figure size 576x396 with 1 Axes>"
      ]
     },
     "metadata": {
      "needs_background": "light"
     },
     "output_type": "display_data"
    }
   ],
   "source": [
    "fig,ax=plt.subplots()\n",
    "data=pd.DataFrame({'minimal_model_score':minimal_model_score,\n",
    "'demo_score':demo_score,'perfect_score':perfect_score},index=[0])\n",
    "\n",
    "sns.barplot(data=data,ax=ax)\n",
    "ax.set_title('Scores \\n (higher = better)')"
   ]
  },
  {
   "cell_type": "code",
   "execution_count": 163,
   "metadata": {},
   "outputs": [
    {
     "data": {
      "text/plain": [
       "4.548638343811035"
      ]
     },
     "execution_count": 163,
     "metadata": {},
     "output_type": "execute_result"
    }
   ],
   "source": [
    "perfect_score"
   ]
  },
  {
   "cell_type": "code",
   "execution_count": null,
   "metadata": {},
   "outputs": [],
   "source": []
  }
 ],
 "metadata": {
  "kernelspec": {
   "display_name": "Python 3",
   "language": "python",
   "name": "python3"
  },
  "language_info": {
   "codemirror_mode": {
    "name": "ipython",
    "version": 3
   },
   "file_extension": ".py",
   "mimetype": "text/x-python",
   "name": "python",
   "nbconvert_exporter": "python",
   "pygments_lexer": "ipython3",
   "version": "3.7.2"
  }
 },
 "nbformat": 4,
 "nbformat_minor": 2
}
