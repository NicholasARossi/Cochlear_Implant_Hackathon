{
 "cells": [
  {
   "cell_type": "code",
   "execution_count": 1,
   "metadata": {},
   "outputs": [],
   "source": [
    "%load_ext autoreload\n",
    "%autoreload 2\n",
    "import sys\n",
    "import os\n",
    "sys.path.append(os.path.abspath('../../AB-Generic-Python-Toolbox/'))\n",
    "import numpy as np\n",
    "from pathlib import Path\n",
    "import numpy as np\n",
    "import pyaudio as pa\n",
    "from scipy.signal import resample\n",
    "from scipy.io.wavfile import read as wavread\n",
    "from scipy.io import wavfile\n",
    "from scipy import interpolate\n",
    "# load the toolbox package\n",
    "from GpyT.Demo.proceduralDemo import demo4_procedural\n",
    "from pesq import pesq\n",
    "sys.path.append(os.path.abspath('../software/'))\n",
    "sys.path.append(os.path.abspath('../software/fitness_functions/'))\n",
    "\n",
    "from delta_wav import compute_wavfile_delta\n",
    "import matplotlib.pyplot as plt\n",
    "import seaborn as sns\n",
    "try:\n",
    "    plt.style.use('rossidata')\n",
    "except:\n",
    "    pass\n",
    "from sklearn.utils import shuffle\n",
    "import math\n",
    "import pandas as pd"
   ]
  },
  {
   "cell_type": "markdown",
   "metadata": {},
   "source": [
    "# Comparing the change in sound for the default algorithm\n",
    "Step 1, load example files"
   ]
  },
  {
   "cell_type": "code",
   "execution_count": 2,
   "metadata": {},
   "outputs": [
    {
     "name": "stdout",
     "output_type": "stream",
     "text": [
      "Channels [ 0  1  2  3  4  5  6  7  8  9 10 11 12 13 14 15] are very similar to the default output.\n"
     ]
    }
   ],
   "source": [
    "results  = demo4_procedural()"
   ]
  },
  {
   "cell_type": "code",
   "execution_count": 3,
   "metadata": {},
   "outputs": [],
   "source": [
    "## loading files\n",
    "rate_ref, ref  = wavread(results['sourceName'])\n",
    "rate_out,deg_out=results['audioFs'],results['audioOut']\n"
   ]
  },
  {
   "cell_type": "code",
   "execution_count": 5,
   "metadata": {},
   "outputs": [
    {
     "data": {
      "text/plain": [
       "(22050, array([ 0, -1,  0, ..., -1,  0, -1], dtype=int16))"
      ]
     },
     "execution_count": 5,
     "metadata": {},
     "output_type": "execute_result"
    }
   ],
   "source": [
    "rate_ref,ref"
   ]
  },
  {
   "cell_type": "code",
   "execution_count": 40,
   "metadata": {},
   "outputs": [
    {
     "data": {
      "text/plain": [
       "1.7934448719024658"
      ]
     },
     "execution_count": 40,
     "metadata": {},
     "output_type": "execute_result"
    }
   ],
   "source": [
    "## Computing delta\n",
    "compute_wavfile_delta(ref,rate_ref,deg_out,rate_out)"
   ]
  },
  {
   "cell_type": "markdown",
   "metadata": {},
   "source": [
    "# Systematically testing this performance metric\n"
   ]
  },
  {
   "cell_type": "code",
   "execution_count": 57,
   "metadata": {},
   "outputs": [],
   "source": [
    "STD_n=math.sqrt(np.mean(ref**2))\n",
    "noise=np.random.normal(0, STD_n, ref.shape[0])\n",
    "\n",
    "\n",
    "trials={'signal':(ref,rate_ref),\n",
    "        'signal_plus_noise':(ref+noise,rate_ref),\n",
    "       'noise':(noise,rate_ref)}"
   ]
  },
  {
   "cell_type": "code",
   "execution_count": 61,
   "metadata": {},
   "outputs": [],
   "source": [
    "nb_results={}\n",
    "for key in trials.keys():\n",
    "    test=trials[key]\n",
    "    nb_results[key]=compute_wavfile_delta(ref,rate_ref,test[0],test[1])\n",
    "    \n",
    "wb_results={}\n",
    "for key in trials.keys():\n",
    "    test=trials[key]\n",
    "    wb_results[key]=compute_wavfile_delta(ref,rate_ref,test[0],test[1],function='wb')"
   ]
  },
  {
   "cell_type": "code",
   "execution_count": 71,
   "metadata": {},
   "outputs": [],
   "source": [
    "test_results=pd.DataFrame()\n",
    "test_results['nb']=pd.Series(nb_results)\n",
    "test_results['wb']=pd.Series(wb_results)\n"
   ]
  },
  {
   "cell_type": "code",
   "execution_count": 80,
   "metadata": {},
   "outputs": [
    {
     "data": {
      "text/plain": [
       "<matplotlib.axes._subplots.AxesSubplot at 0x13cdfd358>"
      ]
     },
     "execution_count": 80,
     "metadata": {},
     "output_type": "execute_result"
    },
    {
     "data": {
      "image/png": "[encoded data removed]",
      "text/plain": [
       "<Figure size 576x396 with 1 Axes>"
      ]
     },
     "metadata": {
      "needs_background": "light"
     },
     "output_type": "display_data"
    }
   ],
   "source": [
    "formated_results=pd.melt(test_results.T.reset_index(), id_vars='index',value_vars=['signal','signal_plus_noise','noise'])\n",
    "\n",
    "sns.barplot(x='variable',y='value',hue='index',data=formated_results)\n",
    "\n"
   ]
  },
  {
   "cell_type": "code",
   "execution_count": 79,
   "metadata": {},
   "outputs": [
    {
     "data": {
      "text/html": [
       "<div>\n",
       "<style scoped>\n",
       "    .dataframe tbody tr th:only-of-type {\n",
       "        vertical-align: middle;\n",
       "    }\n",
       "\n",
       "    .dataframe tbody tr th {\n",
       "        vertical-align: top;\n",
       "    }\n",
       "\n",
       "    .dataframe thead th {\n",
       "        text-align: right;\n",
       "    }\n",
       "</style>\n",
       "<table border=\"1\" class=\"dataframe\">\n",
       "  <thead>\n",
       "    <tr style=\"text-align: right;\">\n",
       "      <th></th>\n",
       "      <th>index</th>\n",
       "      <th>variable</th>\n",
       "      <th>value</th>\n",
       "    </tr>\n",
       "  </thead>\n",
       "  <tbody>\n",
       "    <tr>\n",
       "      <th>0</th>\n",
       "      <td>nb</td>\n",
       "      <td>signal</td>\n",
       "      <td>4.548638</td>\n",
       "    </tr>\n",
       "    <tr>\n",
       "      <th>1</th>\n",
       "      <td>wb</td>\n",
       "      <td>signal</td>\n",
       "      <td>4.643888</td>\n",
       "    </tr>\n",
       "    <tr>\n",
       "      <th>2</th>\n",
       "      <td>nb</td>\n",
       "      <td>signal_plus_noise</td>\n",
       "      <td>1.631985</td>\n",
       "    </tr>\n",
       "    <tr>\n",
       "      <th>3</th>\n",
       "      <td>wb</td>\n",
       "      <td>signal_plus_noise</td>\n",
       "      <td>1.131997</td>\n",
       "    </tr>\n",
       "    <tr>\n",
       "      <th>4</th>\n",
       "      <td>nb</td>\n",
       "      <td>noise</td>\n",
       "      <td>1.079090</td>\n",
       "    </tr>\n",
       "    <tr>\n",
       "      <th>5</th>\n",
       "      <td>wb</td>\n",
       "      <td>noise</td>\n",
       "      <td>1.064616</td>\n",
       "    </tr>\n",
       "  </tbody>\n",
       "</table>\n",
       "</div>"
      ],
      "text/plain": [
       "  index           variable     value\n",
       "0    nb             signal  4.548638\n",
       "1    wb             signal  4.643888\n",
       "2    nb  signal_plus_noise  1.631985\n",
       "3    wb  signal_plus_noise  1.131997\n",
       "4    nb              noise  1.079090\n",
       "5    wb              noise  1.064616"
      ]
     },
     "execution_count": 79,
     "metadata": {},
     "output_type": "execute_result"
    }
   ],
   "source": []
  },
  {
   "cell_type": "code",
   "execution_count": null,
   "metadata": {},
   "outputs": [],
   "source": []
  }
 ],
 "metadata": {
  "kernelspec": {
   "display_name": "Python 3",
   "language": "python",
   "name": "python3"
  },
  "language_info": {
   "codemirror_mode": {
    "name": "ipython",
    "version": 3
   },
   "file_extension": ".py",
   "mimetype": "text/x-python",
   "name": "python",
   "nbconvert_exporter": "python",
   "pygments_lexer": "ipython3",
   "version": "3.7.2"
  }
 },
 "nbformat": 4,
 "nbformat_minor": 2
}
