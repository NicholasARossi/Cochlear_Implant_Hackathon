{
 "cells": [
  {
   "cell_type": "code",
   "execution_count": 16,
   "metadata": {},
   "outputs": [
    {
     "name": "stdout",
     "output_type": "stream",
     "text": [
      "The autoreload extension is already loaded. To reload it, use:\n",
      "  %reload_ext autoreload\n"
     ]
    }
   ],
   "source": [
    "%load_ext autoreload\n",
    "%autoreload 2\n",
    "import sys\n",
    "import os\n",
    "import numpy as np\n",
    "\n",
    "sys.path.append(os.path.abspath('../../Cochlear_Implant_Hackathon/'))\n",
    "\n",
    "from software.fitness_functions.delta_wav import compute_wavfile_delta,wavefile_MSE,wavefile_correlation,wavefile_max_xcor\n",
    "# Import the rest of the GpyT subpackage functions for the demo here\n",
    "\n",
    "from software.AB_imports.Demo.proceduralDemo import demo4_procedural\n",
    "from scipy.fftpack import fft,rfft,irfft,ifft\n",
    "from sklearn.preprocessing import StandardScaler\n",
    "import pyaudio as pa\n",
    "from scipy.signal import resample\n",
    "from scipy.io.wavfile import read as wavread\n",
    "import pandas as pd\n",
    "import matplotlib.pyplot as plt\n",
    "import seaborn as sns\n",
    "try:\n",
    "    plt.style.use('rossidata')\n",
    "except:\n",
    "    pass\n",
    "from glob import glob\n",
    "import networkx as nx\n",
    "from networkx.drawing.nx_agraph import graphviz_layout\n"
   ]
  },
  {
   "cell_type": "code",
   "execution_count": 2,
   "metadata": {},
   "outputs": [],
   "source": [
    "from software.models.gp_model import *\n",
    "import random\n",
    "from deap import algorithms, base, creator, tools, gp\n",
    "import operator"
   ]
  },
  {
   "cell_type": "code",
   "execution_count": 3,
   "metadata": {},
   "outputs": [],
   "source": [
    "import random\n",
    "from deap import algorithms, base, creator, tools, gp\n",
    "import operator\n",
    "\n",
    "\n",
    "fw = FitnessWrapper(os.path.abspath('../sample_data/sentence1_55_clean.wav'))\n",
    "\n",
    "og_vect=VectorClass(fw.prepped_data)\n",
    "\n",
    "og_mat=MatrixClass(np.vstack([fw.prepped_data]*16))\n",
    "\n",
    "def round_up_to_odd(f):\n",
    "    return int(np.ceil(f) // 2 * 2 + 1)\n",
    "\n",
    "def vector_medfilter(vc, integer):\n",
    "    ## requires odd integers\n",
    "    oddint=round_up_to_odd(integer)\n",
    "\n",
    "    vc.data = medfilt(vc.data, oddint)\n",
    "    return vc\n",
    "\n",
    "\n",
    "def vector_multiply(vc,x):\n",
    "    if x is not None:\n",
    "        vc.data=np.multiply(vc.data,x)\n",
    "        return vc\n",
    "    else:\n",
    "        return vc\n",
    "\n",
    "def vector_divide(vc,x):\n",
    "    if x is not None:\n",
    "        vc.data=np.divide(vc.data,x)\n",
    "        return vc\n",
    "    else:\n",
    "        return vc\n",
    "\n",
    "def norm_vector_convolve(vc1,vc2):\n",
    "    convolved=convolve(vc1.data, vc2.data, mode='same')\n",
    "    convolved/=np.max(convolved)\n",
    "    convolved*=max(vc2.data)\n",
    "    vc1.data=convolved\n",
    "    return vc1\n",
    "\n",
    "def norm_hilbert(vc):\n",
    "    vc.data=np.abs((hilbert(vc.data)))\n",
    "    return vc\n",
    "\n",
    "\n",
    "def vector_add(vc1,vc2):\n",
    "    vc1.data = np.add(vc1.data, vc2.data)\n",
    "    return vc1\n",
    "\n",
    "def vector_subtract(vc1,vc2):\n",
    "    vc1.data = np.subtract(vc1.data, vc2.data)\n",
    "    return vc1\n",
    "\n",
    "\n",
    "def pass_primitive(x):\n",
    "\n",
    "    return x\n",
    "\n",
    "pset = gp.PrimitiveSetTyped(\"MAIN\", [VectorClass],MatrixClass)\n",
    "pset.addPrimitive(MatrixClass.create_matrix,list(itertools.repeat(VectorClass, 16)),MatrixClass)\n",
    "\n",
    "\n",
    "### vector vector primitives\n",
    "pset.addPrimitive(norm_vector_convolve,[VectorClass,VectorClass],VectorClass)\n",
    "# pset.addPrimitive(vector_add,[VectorClass,VectorClass],VectorClass)\n",
    "# pset.addPrimitive(vector_subtract,[VectorClass,VectorClass],VectorClass)\n",
    "\n",
    "### vector value primitives\n",
    "pset.addPrimitive(vector_multiply, [VectorClass,float], VectorClass)\n",
    "pset.addPrimitive(norm_hilbert,[VectorClass],VectorClass)\n",
    "#pset.addPrimitive(vector_divide, [VectorClass,float], VectorClass)\n",
    "\n",
    "pset.addPrimitive(vector_medfilter,[VectorClass,int],VectorClass)\n",
    "pset.addPrimitive(pass_primitive,[int],int)\n",
    "pset.addPrimitive(pass_primitive,[float],float)\n",
    "\n",
    "### value value primitives\n",
    "pset.addPrimitive(operator.neg, [float],float)\n",
    "pset.addPrimitive(operator.neg, [float],float)\n",
    "\n",
    "\n",
    "### ephermerals and terminals\n",
    "pset.addTerminal(og_mat,MatrixClass)\n",
    "pset.addEphemeralConstant(\"rand_int\", lambda: random.randrange(1, 101+1, 20), int)\n",
    "pset.addEphemeralConstant(\"uniform\", lambda: random.uniform(0.5, 1.5), float)\n",
    "\n",
    "pset.renameArguments(ARG0=\"input_audio\")\n",
    "\n",
    "\n",
    "creator.create(\"FitnessMax\", base.Fitness, weights=(1.0,))\n",
    "creator.create(\"Individual\", gp.PrimitiveTree, fitness=creator.FitnessMax)\n",
    "\n",
    "toolbox = base.Toolbox()\n",
    "toolbox.register(\"expr_init\", gp.genFull, pset=pset, min_=1, max_=3)\n",
    "#pool = multiprocessing.Pool()\n",
    "#toolbox.register(\"map\", pool.map)\n",
    "\n",
    "# toolbox.register(\"map\", futures.map)\n",
    "\n",
    "# Structure initializers\n",
    "toolbox.register(\"individual\", tools.initIterate, creator.Individual, toolbox.expr_init)\n",
    "toolbox.register(\"population\", tools.initRepeat, list, toolbox.individual)\n",
    "toolbox.register(\"compile\", gp.compile, pset=pset)\n",
    "\n",
    "\n",
    "def evalSymbTransform(individual, fw):\n",
    "    ## investigate with gp.graph(individual)\n",
    "\n",
    "    transform = toolbox.compile(expr=individual)\n",
    "    score = fw.score_new_transform(transform,traceback=individual)\n",
    "    return score,\n",
    "\n",
    "\n",
    "toolbox.register(\"evaluate\", evalSymbTransform, fw=fw)\n",
    "toolbox.register(\"select\", tools.selTournament, tournsize=3)\n",
    "toolbox.register(\"mate\", gp.cxOnePoint)\n",
    "toolbox.register(\"expr_mut\", gp.genFull, min_=0, max_=3)\n",
    "toolbox.register(\"mutate\", gp.mutUniform, expr=toolbox.expr_mut, pset=pset)\n",
    "\n",
    "toolbox.decorate(\"mate\", gp.staticLimit(key=operator.attrgetter(\"height\"), max_value=17))\n",
    "toolbox.decorate(\"mutate\", gp.staticLimit(key=operator.attrgetter(\"height\"), max_value=17))\n",
    "\n",
    "stats_fit = tools.Statistics(lambda ind: ind.fitness.values)\n",
    "stats_size = tools.Statistics(len)\n",
    "mstats = tools.MultiStatistics(fitness=stats_fit, size=stats_size)\n",
    "mstats.register(\"avg\", np.mean)\n",
    "mstats.register(\"std\", np.std)\n",
    "mstats.register(\"min\", np.min)\n",
    "mstats.register(\"max\", np.max)\n",
    "\n",
    "pop = toolbox.population(n=50)\n",
    "hof = tools.HallOfFame(5)"
   ]
  },
  {
   "cell_type": "code",
   "execution_count": 4,
   "metadata": {},
   "outputs": [
    {
     "data": {
      "text/plain": [
       "['../results/results_2021_01_02_053813.pkl',\n",
       " '../results/results_2021_01_02_053831.pkl',\n",
       " '../results/results_2021_01_03_102424.pkl',\n",
       " '../results/results_2021_01_03_112923.pkl',\n",
       " '../results/results_2021_01_03_121514.pkl',\n",
       " '../results/results_2021_01_04_132215.pkl',\n",
       " '../results/results_models_2021_01_05_052315.pkl',\n",
       " '../results/results_models_2021_01_05_110515.pkl',\n",
       " '../results/results_models_2021_01_05_222442.pkl',\n",
       " '../results/results_models_2021_01_06_105933.pkl',\n",
       " '../results/results_models_2021_01_06_131920.pkl',\n",
       " '../results/results_scores_2021_01_05_052315.pkl',\n",
       " '../results/results_scores_2021_01_05_110515.pkl',\n",
       " '../results/results_scores_2021_01_05_222442.pkl',\n",
       " '../results/results_scores_2021_01_06_105933.pkl',\n",
       " '../results/results_scores_2021_01_06_131920.pkl']"
      ]
     },
     "execution_count": 4,
     "metadata": {},
     "output_type": "execute_result"
    }
   ],
   "source": [
    "sorted(glob('../results/*.pkl'))#[-1]"
   ]
  },
  {
   "cell_type": "code",
   "execution_count": 5,
   "metadata": {},
   "outputs": [],
   "source": [
    "most_recent='../results/results_scores_2021_01_06_131920.pkl'"
   ]
  },
  {
   "cell_type": "code",
   "execution_count": 6,
   "metadata": {},
   "outputs": [],
   "source": [
    "\n",
    "results=pickle.load( open(most_recent, \"rb\" ) )"
   ]
  },
  {
   "cell_type": "code",
   "execution_count": 143,
   "metadata": {},
   "outputs": [
    {
     "data": {
      "text/plain": [
       "{'max_result': [<deap.gp.Primitive at 0x18cac0db8>,\n",
       "  <deap.gp.Primitive at 0x18cac0408>,\n",
       "  <deap.gp.Primitive at 0x1886ab4a8>,\n",
       "  <deap.gp.Terminal at 0x18c03f870>,\n",
       "  <deap.gp.Primitive at 0x18cb44778>,\n",
       "  <deap.gp.Primitive at 0x18cad36d8>,\n",
       "  <deap.gp.Terminal at 0x18c03f870>,\n",
       "  <deap.gp.Terminal at 0x18c03f870>,\n",
       "  <deap.gp.Primitive at 0x1886ab4a8>,\n",
       "  <deap.gp.Primitive at 0x18cac0408>,\n",
       "  <deap.gp.Terminal at 0x18c03f870>,\n",
       "  <deap.gp.Primitive at 0x18cb44778>,\n",
       "  <deap.gp.Primitive at 0x18cad3458>,\n",
       "  <deap.gp.Terminal at 0x18c03f870>,\n",
       "  <deap.gp.Primitive at 0x18cad36d8>,\n",
       "  <deap.gp.Primitive at 0x18cad38b8>,\n",
       "  <deap.gp.Terminal at 0x18c03f870>,\n",
       "  <deap.gp.Primitive at 0x18cad36d8>,\n",
       "  <deap.gp.Terminal at 0x18c03f870>,\n",
       "  <deap.gp.Terminal at 0x18c03f870>,\n",
       "  <deap.gp.Primitive at 0x18cad3458>,\n",
       "  <deap.gp.Primitive at 0x18cad39a8>,\n",
       "  <deap.gp.Terminal at 0x18c03f870>,\n",
       "  <deap.gp.Primitive at 0x18cad38b8>,\n",
       "  <deap.gp.Primitive at 0x18cad36d8>,\n",
       "  <deap.gp.Terminal at 0x18c03f870>,\n",
       "  <deap.gp.Primitive at 0x18cad36d8>,\n",
       "  <deap.gp.Primitive at 0x18a1d0e08>,\n",
       "  <deap.gp.Terminal at 0x18c03f870>,\n",
       "  <deap.gp.Primitive at 0x18a1d0f98>,\n",
       "  <deap.gp.Terminal at 0x18c03f870>,\n",
       "  <deap.gp.uniform at 0x18c0ddca8>,\n",
       "  <deap.gp.Primitive at 0x18a1d0e08>,\n",
       "  <deap.gp.Primitive at 0x18cad3458>,\n",
       "  <deap.gp.Terminal at 0x18c03f870>,\n",
       "  <deap.gp.Primitive at 0x1886ab4a8>,\n",
       "  <deap.gp.Primitive at 0x18cad36d8>,\n",
       "  <deap.gp.Terminal at 0x18c03f870>,\n",
       "  <deap.gp.Terminal at 0x18c03f870>,\n",
       "  <deap.gp.Primitive at 0x18cad3458>,\n",
       "  <deap.gp.Primitive at 0x18cad3458>,\n",
       "  <deap.gp.Terminal at 0x18c03f870>,\n",
       "  <deap.gp.Primitive at 0x18cad36d8>,\n",
       "  <deap.gp.Primitive at 0x18a1d0e08>,\n",
       "  <deap.gp.Terminal at 0x18c03f870>,\n",
       "  <deap.gp.Primitive at 0x18a1d0f98>,\n",
       "  <deap.gp.Terminal at 0x18c03f870>,\n",
       "  <deap.gp.uniform at 0x18c0ddd00>,\n",
       "  <deap.gp.Primitive at 0x18cad36d8>,\n",
       "  <deap.gp.Primitive at 0x18cac0408>,\n",
       "  <deap.gp.Terminal at 0x18c03f870>,\n",
       "  <deap.gp.Primitive at 0x18cad39a8>,\n",
       "  <deap.gp.Terminal at 0x18c03f870>,\n",
       "  <deap.gp.Primitive at 0x18cad38b8>,\n",
       "  <deap.gp.Primitive at 0x1886ab4a8>,\n",
       "  <deap.gp.Terminal at 0x18c03f870>,\n",
       "  <deap.gp.Primitive at 0x1886ab4a8>,\n",
       "  <deap.gp.Primitive at 0x18caec4a8>,\n",
       "  <deap.gp.Terminal at 0x18c03f870>,\n",
       "  <deap.gp.rand_int at 0x18c0ddd58>,\n",
       "  <deap.gp.Primitive at 0x18cb44778>,\n",
       "  <deap.gp.Primitive at 0x18cac0408>,\n",
       "  <deap.gp.Terminal at 0x18c03f870>,\n",
       "  <deap.gp.Primitive at 0x18cad39a8>,\n",
       "  <deap.gp.Primitive at 0x18cad38b8>,\n",
       "  <deap.gp.Terminal at 0x18c03f870>]}"
      ]
     },
     "execution_count": 143,
     "metadata": {},
     "output_type": "execute_result"
    }
   ],
   "source": [
    "results"
   ]
  },
  {
   "cell_type": "code",
   "execution_count": 7,
   "metadata": {},
   "outputs": [
    {
     "data": {
      "text/plain": [
       "0.027550958790110134"
      ]
     },
     "execution_count": 7,
     "metadata": {},
     "output_type": "execute_result"
    }
   ],
   "source": [
    "wavefile_max_xcor(results['audio_input'],results['frequency_input'],\n",
    "                 results['audio_out'],results['frequency_out'])"
   ]
  },
  {
   "cell_type": "code",
   "execution_count": 144,
   "metadata": {},
   "outputs": [
    {
     "data": {
      "text/plain": [
       "([0,\n",
       "  1,\n",
       "  2,\n",
       "  3,\n",
       "  4,\n",
       "  5,\n",
       "  6,\n",
       "  7,\n",
       "  8,\n",
       "  9,\n",
       "  10,\n",
       "  11,\n",
       "  12,\n",
       "  13,\n",
       "  14,\n",
       "  15,\n",
       "  16,\n",
       "  17,\n",
       "  18,\n",
       "  19,\n",
       "  20,\n",
       "  21,\n",
       "  22,\n",
       "  23,\n",
       "  24,\n",
       "  25,\n",
       "  26,\n",
       "  27,\n",
       "  28,\n",
       "  29,\n",
       "  30,\n",
       "  31,\n",
       "  32,\n",
       "  33,\n",
       "  34,\n",
       "  35,\n",
       "  36,\n",
       "  37,\n",
       "  38,\n",
       "  39,\n",
       "  40,\n",
       "  41,\n",
       "  42,\n",
       "  43,\n",
       "  44,\n",
       "  45,\n",
       "  46,\n",
       "  47,\n",
       "  48,\n",
       "  49,\n",
       "  50,\n",
       "  51,\n",
       "  52,\n",
       "  53,\n",
       "  54,\n",
       "  55,\n",
       "  56,\n",
       "  57,\n",
       "  58,\n",
       "  59,\n",
       "  60,\n",
       "  61,\n",
       "  62,\n",
       "  63,\n",
       "  64,\n",
       "  65],\n",
       " [(0, 1),\n",
       "  (1, 2),\n",
       "  (2, 3),\n",
       "  (0, 4),\n",
       "  (4, 5),\n",
       "  (5, 6),\n",
       "  (5, 7),\n",
       "  (0, 8),\n",
       "  (8, 9),\n",
       "  (9, 10),\n",
       "  (0, 11),\n",
       "  (11, 12),\n",
       "  (12, 13),\n",
       "  (0, 14),\n",
       "  (14, 15),\n",
       "  (15, 16),\n",
       "  (14, 17),\n",
       "  (17, 18),\n",
       "  (17, 19),\n",
       "  (0, 20),\n",
       "  (20, 21),\n",
       "  (21, 22),\n",
       "  (0, 23),\n",
       "  (23, 24),\n",
       "  (24, 25),\n",
       "  (24, 26),\n",
       "  (26, 27),\n",
       "  (27, 28),\n",
       "  (26, 29),\n",
       "  (29, 30),\n",
       "  (29, 31),\n",
       "  (0, 32),\n",
       "  (32, 33),\n",
       "  (33, 34),\n",
       "  (0, 35),\n",
       "  (35, 36),\n",
       "  (36, 37),\n",
       "  (36, 38),\n",
       "  (0, 39),\n",
       "  (39, 40),\n",
       "  (40, 41),\n",
       "  (0, 42),\n",
       "  (42, 43),\n",
       "  (43, 44),\n",
       "  (42, 45),\n",
       "  (45, 46),\n",
       "  (45, 47),\n",
       "  (0, 48),\n",
       "  (48, 49),\n",
       "  (49, 50),\n",
       "  (48, 51),\n",
       "  (51, 52),\n",
       "  (0, 53),\n",
       "  (53, 54),\n",
       "  (54, 55),\n",
       "  (0, 56),\n",
       "  (56, 57),\n",
       "  (57, 58),\n",
       "  (57, 59),\n",
       "  (0, 60),\n",
       "  (60, 61),\n",
       "  (61, 62),\n",
       "  (0, 63),\n",
       "  (63, 64),\n",
       "  (64, 65)],\n",
       " {0: 'create_matrix',\n",
       "  1: 'vector_super_high_freq_filter',\n",
       "  2: 'vector_super_low_freq_filter',\n",
       "  3: 'input_audio',\n",
       "  4: 'vector_high_freq_filter',\n",
       "  5: 'norm_vector_convolve',\n",
       "  6: 'input_audio',\n",
       "  7: 'input_audio',\n",
       "  8: 'vector_super_low_freq_filter',\n",
       "  9: 'vector_super_high_freq_filter',\n",
       "  10: 'input_audio',\n",
       "  11: 'vector_high_freq_filter',\n",
       "  12: 'vector_ultra_low_freq_filter',\n",
       "  13: 'input_audio',\n",
       "  14: 'norm_vector_convolve',\n",
       "  15: 'vector_low_freq_filter',\n",
       "  16: 'input_audio',\n",
       "  17: 'norm_vector_convolve',\n",
       "  18: 'input_audio',\n",
       "  19: 'input_audio',\n",
       "  20: 'vector_ultra_low_freq_filter',\n",
       "  21: 'vector_ultra_high_freq_filter',\n",
       "  22: 'input_audio',\n",
       "  23: 'vector_low_freq_filter',\n",
       "  24: 'norm_vector_convolve',\n",
       "  25: 'input_audio',\n",
       "  26: 'norm_vector_convolve',\n",
       "  27: 'norm_hilbert',\n",
       "  28: 'input_audio',\n",
       "  29: 'vector_multiply',\n",
       "  30: 'input_audio',\n",
       "  31: 0.7935665826970383,\n",
       "  32: 'norm_hilbert',\n",
       "  33: 'vector_ultra_low_freq_filter',\n",
       "  34: 'input_audio',\n",
       "  35: 'vector_super_low_freq_filter',\n",
       "  36: 'norm_vector_convolve',\n",
       "  37: 'input_audio',\n",
       "  38: 'input_audio',\n",
       "  39: 'vector_ultra_low_freq_filter',\n",
       "  40: 'vector_ultra_low_freq_filter',\n",
       "  41: 'input_audio',\n",
       "  42: 'norm_vector_convolve',\n",
       "  43: 'norm_hilbert',\n",
       "  44: 'input_audio',\n",
       "  45: 'vector_multiply',\n",
       "  46: 'input_audio',\n",
       "  47: 1.1108210875441047,\n",
       "  48: 'norm_vector_convolve',\n",
       "  49: 'vector_super_high_freq_filter',\n",
       "  50: 'input_audio',\n",
       "  51: 'vector_ultra_high_freq_filter',\n",
       "  52: 'input_audio',\n",
       "  53: 'vector_low_freq_filter',\n",
       "  54: 'vector_super_low_freq_filter',\n",
       "  55: 'input_audio',\n",
       "  56: 'vector_super_low_freq_filter',\n",
       "  57: 'vector_medfilter',\n",
       "  58: 'input_audio',\n",
       "  59: 21,\n",
       "  60: 'vector_high_freq_filter',\n",
       "  61: 'vector_super_high_freq_filter',\n",
       "  62: 'input_audio',\n",
       "  63: 'vector_ultra_high_freq_filter',\n",
       "  64: 'vector_low_freq_filter',\n",
       "  65: 'input_audio'})"
      ]
     },
     "execution_count": 144,
     "metadata": {},
     "output_type": "execute_result"
    }
   ],
   "source": [
    "\n",
    "gp.graph(results['max_result'])"
   ]
  },
  {
   "cell_type": "code",
   "execution_count": null,
   "metadata": {},
   "outputs": [],
   "source": [
    "import matplotlib.pyplot as plt\n",
    "import networkx as nx\n",
    "\n",
    "g = nx.Graph()\n",
    "g.add_nodes_from(nodes)\n",
    "g.add_edges_from(edges)\n",
    "pos = nx.graphviz_layout(g, prog=\"dot\")\n",
    "\n",
    "nx.draw_networkx_nodes(g, pos)\n",
    "nx.draw_networkx_edges(g, pos)\n",
    "nx.draw_networkx_labels(g, pos, labels)\n",
    "plt.show()"
   ]
  },
  {
   "cell_type": "markdown",
   "metadata": {},
   "source": [
    "# Rendering Sound Files"
   ]
  },
  {
   "cell_type": "code",
   "execution_count": 15,
   "metadata": {},
   "outputs": [
    {
     "ename": "OSError",
     "evalue": "[Errno -9986] Internal PortAudio error",
     "output_type": "error",
     "traceback": [
      "\u001b[0;31m---------------------------------------------------------------------------\u001b[0m",
      "\u001b[0;31mOSError\u001b[0m                                   Traceback (most recent call last)",
      "\u001b[0;32m<ipython-input-15-8573ac43b2e5>\u001b[0m in \u001b[0;36m<module>\u001b[0;34m\u001b[0m\n\u001b[1;32m     10\u001b[0m \u001b[0mrate\u001b[0m\u001b[0;34m=\u001b[0m\u001b[0mresults\u001b[0m\u001b[0;34m[\u001b[0m\u001b[0;34m'frequency_input'\u001b[0m\u001b[0;34m]\u001b[0m\u001b[0;34m,\u001b[0m\u001b[0;34m\u001b[0m\u001b[0;34m\u001b[0m\u001b[0m\n\u001b[1;32m     11\u001b[0m \u001b[0moutput\u001b[0m\u001b[0;34m=\u001b[0m\u001b[0;32mTrue\u001b[0m\u001b[0;34m,\u001b[0m\u001b[0;34m\u001b[0m\u001b[0;34m\u001b[0m\u001b[0m\n\u001b[0;32m---> 12\u001b[0;31m \u001b[0moutput_device_index\u001b[0m \u001b[0;34m=\u001b[0m \u001b[0mdevIndex\u001b[0m\u001b[0;34m\u001b[0m\u001b[0;34m\u001b[0m\u001b[0m\n\u001b[0m\u001b[1;32m     13\u001b[0m )\n\u001b[1;32m     14\u001b[0m \u001b[0;34m\u001b[0m\u001b[0m\n",
      "\u001b[0;32m~/Library/Python/3.7/lib/python/site-packages/pyaudio.py\u001b[0m in \u001b[0;36mopen\u001b[0;34m(self, *args, **kwargs)\u001b[0m\n\u001b[1;32m    748\u001b[0m         \"\"\"\n\u001b[1;32m    749\u001b[0m \u001b[0;34m\u001b[0m\u001b[0m\n\u001b[0;32m--> 750\u001b[0;31m         \u001b[0mstream\u001b[0m \u001b[0;34m=\u001b[0m \u001b[0mStream\u001b[0m\u001b[0;34m(\u001b[0m\u001b[0mself\u001b[0m\u001b[0;34m,\u001b[0m \u001b[0;34m*\u001b[0m\u001b[0margs\u001b[0m\u001b[0;34m,\u001b[0m \u001b[0;34m**\u001b[0m\u001b[0mkwargs\u001b[0m\u001b[0;34m)\u001b[0m\u001b[0;34m\u001b[0m\u001b[0;34m\u001b[0m\u001b[0m\n\u001b[0m\u001b[1;32m    751\u001b[0m         \u001b[0mself\u001b[0m\u001b[0;34m.\u001b[0m\u001b[0m_streams\u001b[0m\u001b[0;34m.\u001b[0m\u001b[0madd\u001b[0m\u001b[0;34m(\u001b[0m\u001b[0mstream\u001b[0m\u001b[0;34m)\u001b[0m\u001b[0;34m\u001b[0m\u001b[0;34m\u001b[0m\u001b[0m\n\u001b[1;32m    752\u001b[0m         \u001b[0;32mreturn\u001b[0m \u001b[0mstream\u001b[0m\u001b[0;34m\u001b[0m\u001b[0;34m\u001b[0m\u001b[0m\n",
      "\u001b[0;32m~/Library/Python/3.7/lib/python/site-packages/pyaudio.py\u001b[0m in \u001b[0;36m__init__\u001b[0;34m(self, PA_manager, rate, channels, format, input, output, input_device_index, output_device_index, frames_per_buffer, start, input_host_api_specific_stream_info, output_host_api_specific_stream_info, stream_callback)\u001b[0m\n\u001b[1;32m    439\u001b[0m \u001b[0;34m\u001b[0m\u001b[0m\n\u001b[1;32m    440\u001b[0m         \u001b[0;31m# calling pa.open returns a stream object\u001b[0m\u001b[0;34m\u001b[0m\u001b[0;34m\u001b[0m\u001b[0;34m\u001b[0m\u001b[0m\n\u001b[0;32m--> 441\u001b[0;31m         \u001b[0mself\u001b[0m\u001b[0;34m.\u001b[0m\u001b[0m_stream\u001b[0m \u001b[0;34m=\u001b[0m \u001b[0mpa\u001b[0m\u001b[0;34m.\u001b[0m\u001b[0mopen\u001b[0m\u001b[0;34m(\u001b[0m\u001b[0;34m**\u001b[0m\u001b[0marguments\u001b[0m\u001b[0;34m)\u001b[0m\u001b[0;34m\u001b[0m\u001b[0;34m\u001b[0m\u001b[0m\n\u001b[0m\u001b[1;32m    442\u001b[0m \u001b[0;34m\u001b[0m\u001b[0m\n\u001b[1;32m    443\u001b[0m         \u001b[0mself\u001b[0m\u001b[0;34m.\u001b[0m\u001b[0m_input_latency\u001b[0m \u001b[0;34m=\u001b[0m \u001b[0mself\u001b[0m\u001b[0;34m.\u001b[0m\u001b[0m_stream\u001b[0m\u001b[0;34m.\u001b[0m\u001b[0minputLatency\u001b[0m\u001b[0;34m\u001b[0m\u001b[0;34m\u001b[0m\u001b[0m\n",
      "\u001b[0;31mOSError\u001b[0m: [Errno -9986] Internal PortAudio error"
     ]
    }
   ],
   "source": [
    "# play initial sound file\n",
    "\n",
    "p = pa.PyAudio()\n",
    "devInfo = p.get_default_output_device_info()\n",
    "devIndex = devInfo['index']\n",
    "nChan = 1\n",
    "\n",
    "stream = p.open(format=pa.paFloat32,\n",
    "channels=nChan,\n",
    "rate=results['frequency_input'],\n",
    "output=True,\n",
    "output_device_index = devIndex\n",
    ")\n",
    "\n",
    "data=results['audio_input']/(2**15-1)\n",
    "#data=results['audi']/(2**10-1)\n",
    "inData = data.astype(np.float32).tobytes()\n",
    "\n",
    "stream.write(inData)\n",
    "stream.close()"
   ]
  },
  {
   "cell_type": "code",
   "execution_count": 14,
   "metadata": {},
   "outputs": [
    {
     "ename": "OSError",
     "evalue": "[Errno -9986] Internal PortAudio error",
     "output_type": "error",
     "traceback": [
      "\u001b[0;31m---------------------------------------------------------------------------\u001b[0m",
      "\u001b[0;31mOSError\u001b[0m                                   Traceback (most recent call last)",
      "\u001b[0;32m<ipython-input-14-3639eab4484b>\u001b[0m in \u001b[0;36m<module>\u001b[0;34m\u001b[0m\n\u001b[1;32m      8\u001b[0m \u001b[0mrate\u001b[0m\u001b[0;34m=\u001b[0m\u001b[0mresults\u001b[0m\u001b[0;34m[\u001b[0m\u001b[0;34m'frequency_out'\u001b[0m\u001b[0;34m]\u001b[0m\u001b[0;34m,\u001b[0m\u001b[0;34m\u001b[0m\u001b[0;34m\u001b[0m\u001b[0m\n\u001b[1;32m      9\u001b[0m \u001b[0moutput\u001b[0m\u001b[0;34m=\u001b[0m\u001b[0;32mTrue\u001b[0m\u001b[0;34m,\u001b[0m\u001b[0;34m\u001b[0m\u001b[0;34m\u001b[0m\u001b[0m\n\u001b[0;32m---> 10\u001b[0;31m \u001b[0moutput_device_index\u001b[0m \u001b[0;34m=\u001b[0m \u001b[0mdevIndex\u001b[0m\u001b[0;34m\u001b[0m\u001b[0;34m\u001b[0m\u001b[0m\n\u001b[0m\u001b[1;32m     11\u001b[0m )\n\u001b[1;32m     12\u001b[0m \u001b[0;34m\u001b[0m\u001b[0m\n",
      "\u001b[0;32m~/Library/Python/3.7/lib/python/site-packages/pyaudio.py\u001b[0m in \u001b[0;36mopen\u001b[0;34m(self, *args, **kwargs)\u001b[0m\n\u001b[1;32m    748\u001b[0m         \"\"\"\n\u001b[1;32m    749\u001b[0m \u001b[0;34m\u001b[0m\u001b[0m\n\u001b[0;32m--> 750\u001b[0;31m         \u001b[0mstream\u001b[0m \u001b[0;34m=\u001b[0m \u001b[0mStream\u001b[0m\u001b[0;34m(\u001b[0m\u001b[0mself\u001b[0m\u001b[0;34m,\u001b[0m \u001b[0;34m*\u001b[0m\u001b[0margs\u001b[0m\u001b[0;34m,\u001b[0m \u001b[0;34m**\u001b[0m\u001b[0mkwargs\u001b[0m\u001b[0;34m)\u001b[0m\u001b[0;34m\u001b[0m\u001b[0;34m\u001b[0m\u001b[0m\n\u001b[0m\u001b[1;32m    751\u001b[0m         \u001b[0mself\u001b[0m\u001b[0;34m.\u001b[0m\u001b[0m_streams\u001b[0m\u001b[0;34m.\u001b[0m\u001b[0madd\u001b[0m\u001b[0;34m(\u001b[0m\u001b[0mstream\u001b[0m\u001b[0;34m)\u001b[0m\u001b[0;34m\u001b[0m\u001b[0;34m\u001b[0m\u001b[0m\n\u001b[1;32m    752\u001b[0m         \u001b[0;32mreturn\u001b[0m \u001b[0mstream\u001b[0m\u001b[0;34m\u001b[0m\u001b[0;34m\u001b[0m\u001b[0m\n",
      "\u001b[0;32m~/Library/Python/3.7/lib/python/site-packages/pyaudio.py\u001b[0m in \u001b[0;36m__init__\u001b[0;34m(self, PA_manager, rate, channels, format, input, output, input_device_index, output_device_index, frames_per_buffer, start, input_host_api_specific_stream_info, output_host_api_specific_stream_info, stream_callback)\u001b[0m\n\u001b[1;32m    439\u001b[0m \u001b[0;34m\u001b[0m\u001b[0m\n\u001b[1;32m    440\u001b[0m         \u001b[0;31m# calling pa.open returns a stream object\u001b[0m\u001b[0;34m\u001b[0m\u001b[0;34m\u001b[0m\u001b[0;34m\u001b[0m\u001b[0m\n\u001b[0;32m--> 441\u001b[0;31m         \u001b[0mself\u001b[0m\u001b[0;34m.\u001b[0m\u001b[0m_stream\u001b[0m \u001b[0;34m=\u001b[0m \u001b[0mpa\u001b[0m\u001b[0;34m.\u001b[0m\u001b[0mopen\u001b[0m\u001b[0;34m(\u001b[0m\u001b[0;34m**\u001b[0m\u001b[0marguments\u001b[0m\u001b[0;34m)\u001b[0m\u001b[0;34m\u001b[0m\u001b[0;34m\u001b[0m\u001b[0m\n\u001b[0m\u001b[1;32m    442\u001b[0m \u001b[0;34m\u001b[0m\u001b[0m\n\u001b[1;32m    443\u001b[0m         \u001b[0mself\u001b[0m\u001b[0;34m.\u001b[0m\u001b[0m_input_latency\u001b[0m \u001b[0;34m=\u001b[0m \u001b[0mself\u001b[0m\u001b[0;34m.\u001b[0m\u001b[0m_stream\u001b[0m\u001b[0;34m.\u001b[0m\u001b[0minputLatency\u001b[0m\u001b[0;34m\u001b[0m\u001b[0;34m\u001b[0m\u001b[0m\n",
      "\u001b[0;31mOSError\u001b[0m: [Errno -9986] Internal PortAudio error"
     ]
    }
   ],
   "source": [
    "\n",
    "p = pa.PyAudio()\n",
    "devInfo = p.get_default_output_device_info()\n",
    "devIndex = devInfo['index']\n",
    "nChan = 1\n",
    "\n",
    "stream = p.open(format=pa.paFloat32,\n",
    "channels=nChan,\n",
    "rate=results['frequency_out'],\n",
    "output=True,\n",
    "output_device_index = devIndex\n",
    ")\n",
    "\n",
    "data=results['audio_out']#/(2**15-1)\n",
    "inData = data.astype(np.float32).tobytes()\n",
    "\n",
    "\n",
    "\n",
    "stream.write(inData)\n",
    "stream.close()"
   ]
  },
  {
   "cell_type": "code",
   "execution_count": 22,
   "metadata": {},
   "outputs": [],
   "source": [
    "compute_wavfile_delta(results['audio_input'],results['frequency_input'],results['audio_out'],results['frequency_out'])\n",
    "\n"
   ]
  },
  {
   "cell_type": "code",
   "execution_count": 114,
   "metadata": {},
   "outputs": [
    {
     "data": {
      "text/plain": [
       "[<matplotlib.lines.Line2D at 0x17ebcdf60>]"
      ]
     },
     "execution_count": 114,
     "metadata": {},
     "output_type": "execute_result"
    },
    {
     "data": {
      "image/png": "[encoded data removed]",
      "text/plain": [
       "<Figure size 576x396 with 2 Axes>"
      ]
     },
     "metadata": {
      "needs_background": "light"
     },
     "output_type": "display_data"
    }
   ],
   "source": [
    "fig,(ax1,ax2)=plt.subplots(2,1,sharex=True,sharey=True)\n",
    "ax1.plot(results['audio_input'][10000:]/(2**10-1))\n",
    "ax2.plot(results['audio_out'][10000:]*(2**30-1))"
   ]
  },
  {
   "cell_type": "code",
   "execution_count": 115,
   "metadata": {},
   "outputs": [
    {
     "data": {
      "text/plain": [
       "-5.063641704256563e-06"
      ]
     },
     "execution_count": 115,
     "metadata": {},
     "output_type": "execute_result"
    }
   ],
   "source": [
    "wavefile_correlation(results['audio_input']/(2**15-1),results['frequency_input'],results['audio_out'],results['frequency_out'])"
   ]
  },
  {
   "cell_type": "code",
   "execution_count": 41,
   "metadata": {},
   "outputs": [],
   "source": [
    "from scipy import signal"
   ]
  },
  {
   "cell_type": "code",
   "execution_count": 80,
   "metadata": {},
   "outputs": [],
   "source": [
    "fs=results['frequency_input']\n",
    "\n",
    "fc = 500  # Cut-off frequency of the filter\n",
    "w = fc / (fs / 2) # Normalize the frequency\n",
    "b, a = signal.butter(5, w, 'high')\n",
    "output = signal.filtfilt(b, a, results['audio_input'])"
   ]
  },
  {
   "cell_type": "code",
   "execution_count": 8,
   "metadata": {
    "scrolled": true
   },
   "outputs": [
    {
     "data": {
      "text/plain": [
       "[<matplotlib.lines.Line2D at 0x1356366a0>]"
      ]
     },
     "execution_count": 8,
     "metadata": {},
     "output_type": "execute_result"
    },
    {
     "data": {
      "image/png": "[encoded data removed]",
      "text/plain": [
       "<Figure size 432x288 with 2 Axes>"
      ]
     },
     "metadata": {
      "needs_background": "light"
     },
     "output_type": "display_data"
    }
   ],
   "source": [
    "fig,(ax1,ax2)=plt.subplots(2,1,sharex=True,sharey=True)\n",
    "ax1.plot(results['audio_input']/(2**10-1))\n",
    "ax2.plot(results['audio_out'])"
   ]
  },
  {
   "cell_type": "code",
   "execution_count": 69,
   "metadata": {},
   "outputs": [
    {
     "data": {
      "text/plain": [
       "<software.models.gp_model.FitnessWrapper at 0x140787cc0>"
      ]
     },
     "execution_count": 69,
     "metadata": {},
     "output_type": "execute_result"
    }
   ],
   "source": [
    "fw.prepped_rate"
   ]
  },
  {
   "cell_type": "code",
   "execution_count": 82,
   "metadata": {},
   "outputs": [
    {
     "data": {
      "text/plain": [
       "{'audio_input': array([ 0,  0,  0, ...,  0, -1,  0], dtype=int16),\n",
       " 'frequency_input': 44100,\n",
       " 'audio_out': array([0.00000000e+00, 0.00000000e+00, 0.00000000e+00, ...,\n",
       "        3.03277329e-53, 2.70462717e-53, 2.33747588e-53]),\n",
       " 'frequency_out': 48161,\n",
       " 'score': 0.02106869141973069}"
      ]
     },
     "execution_count": 82,
     "metadata": {},
     "output_type": "execute_result"
    }
   ],
   "source": [
    "results"
   ]
  },
  {
   "cell_type": "code",
   "execution_count": 138,
   "metadata": {},
   "outputs": [
    {
     "data": {
      "text/plain": [
       "1.4097153020730177e-05"
      ]
     },
     "execution_count": 138,
     "metadata": {},
     "output_type": "execute_result"
    }
   ],
   "source": [
    "wavefile_max_xcor(results['audio_input'],results['frequency_input'],results['audio_out'],results['frequency_out'])\n",
    "\n"
   ]
  },
  {
   "cell_type": "code",
   "execution_count": 134,
   "metadata": {},
   "outputs": [],
   "source": [
    "ref_remastered = convert_sample_rate(results['audio_input'],results['frequency_input'])\n",
    "output_remastered = convert_sample_rate(results['audio_out'],results['frequency_out'])\n",
    "min_len=min([len(ref_remastered),len(output_remastered)])\n",
    "\n",
    "a=ref_remastered[:min_len]\n",
    "b=ref_remastered[:min_len]\n",
    "a = (a - np.mean(a)) / (np.std(a) * len(a))\n",
    "b = (b - np.mean(b)) / (np.std(b))\n",
    "c = np.correlate(a, b, 'full')\n",
    "\n",
    "# only comparing with slight offset\n"
   ]
  },
  {
   "cell_type": "code",
   "execution_count": 137,
   "metadata": {},
   "outputs": [
    {
     "data": {
      "text/plain": [
       "1.0000000000000007"
      ]
     },
     "execution_count": 137,
     "metadata": {},
     "output_type": "execute_result"
    }
   ],
   "source": [
    "max(c[min_len-1000:min_len+1000])"
   ]
  },
  {
   "cell_type": "code",
   "execution_count": 133,
   "metadata": {},
   "outputs": [
    {
     "data": {
      "text/plain": [
       "83187"
      ]
     },
     "execution_count": 133,
     "metadata": {},
     "output_type": "execute_result"
    }
   ],
   "source": []
  },
  {
   "cell_type": "code",
   "execution_count": null,
   "metadata": {},
   "outputs": [],
   "source": []
  }
 ],
 "metadata": {
  "kernelspec": {
   "display_name": "Python 3",
   "language": "python",
   "name": "python3"
  },
  "language_info": {
   "codemirror_mode": {
    "name": "ipython",
    "version": 3
   },
   "file_extension": ".py",
   "mimetype": "text/x-python",
   "name": "python",
   "nbconvert_exporter": "python",
   "pygments_lexer": "ipython3",
   "version": "3.7.2"
  }
 },
 "nbformat": 4,
 "nbformat_minor": 2
}
