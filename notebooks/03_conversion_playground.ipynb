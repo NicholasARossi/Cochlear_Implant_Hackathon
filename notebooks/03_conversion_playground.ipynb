{
 "cells": [
  {
   "cell_type": "code",
   "execution_count": 61,
   "metadata": {},
   "outputs": [
    {
     "name": "stdout",
     "output_type": "stream",
     "text": [
      "The autoreload extension is already loaded. To reload it, use:\n",
      "  %reload_ext autoreload\n"
     ]
    }
   ],
   "source": [
    "%load_ext autoreload\n",
    "%autoreload 2\n",
    "import sys\n",
    "import os\n",
    "import numpy as np\n",
    "sys.path.append(os.path.abspath('../software/AB_imports/'))\n",
    "sys.path.append(os.path.abspath('../software/fitness_functions/'))\n",
    "\n",
    "# Import the rest of the GpyT subpackage functions for the demo here\n",
    "from Frontend.readWav import readWavFunc\n",
    "from Frontend.tdFilter import tdFilterFunc\n",
    "from Agc.dualLoopTdAgc import dualLoopTdAgcFunc\n",
    "from WinBuf.winBuf import winBufFunc\n",
    "from Filterbank.fftFilterbank import fftFilterbankFunc\n",
    "from Filterbank.hilbertEnvelope import hilbertEnvelopeFunc\n",
    "from Filterbank.channelEnergy import channelEnergyFunc\n",
    "from NoiseReduction.noiseReduction import noiseReductionFunc\n",
    "from PostFilterbank.specPeakLocator import specPeakLocatorFunc\n",
    "from PostFilterbank.currentSteeringWeights import currentSteeringWeightsFunc\n",
    "from PostFilterbank.carrierSynthesis import carrierSynthesisFunc\n",
    "from Mapping.f120Mapping import f120MappingFunc\n",
    "from Electrodogram.f120Electrodogram import f120ElectrodogramFunc\n",
    "from Validation.validateOutput import validateOutputFunc\n",
    "from Vocoder.vocoder import vocoderFunc\n",
    "\n",
    "from delta_wav import convert_sample_rate"
   ]
  },
  {
   "cell_type": "code",
   "execution_count": 11,
   "metadata": {},
   "outputs": [],
   "source": [
    "wavefile=os.path.abspath('../sample_data/sentence1_55_clean.wav')\n",
    "stratWindow = 0.5 * (np.blackman(256) + np.hanning(256))\n",
    "stratWindow = stratWindow.reshape(1, stratWindow.size)\n",
    "# all parameters\n",
    "parStrat = {\n",
    "    'wavFile': wavefile,  # this should be a complete absolute path to your sound file of choice\n",
    "    'fs': 17400,  # this value matches implant internal audio rate. incoming wav files resampled to match\n",
    "    'nFft': 256,\n",
    "    'nHop': 20,\n",
    "    'nChan': 15,  # do not change\n",
    "    'startBin': 6,\n",
    "    'nBinLims': np.array([2, 2, 1, 2, 2, 2, 3, 4, 4, 5, 6, 7, 8, 10, 56]),\n",
    "    'window': stratWindow,\n",
    "    'pulseWidth': 18,  # DO NOT CHANGE\n",
    "    'verbose': 0\n",
    "}\n",
    "\n",
    "parReadWav = {\n",
    "    'parent': parStrat,\n",
    "    'tStartEnd': [],\n",
    "    'iChannel': 1,\n",
    "}\n",
    "\n",
    "parPre = {\n",
    "    'parent': parStrat,\n",
    "    'coeffNum': np.array([.7688, -1.5376, .7688]),\n",
    "    'coeffDenom': np.array([1, -1.5299, .5453]),\n",
    "}\n",
    "\n",
    "envCoefs = np.array([-19, 55, 153, 277, 426, 596, 784, 983,\n",
    "                     1189, 1393, 1587, 1763, 1915, 2035, 2118, 2160,\n",
    "                     2160, 2118, 2035, 1915, 1763, 1587, 1393, 1189,\n",
    "                     983, 784, 596, 426, 277, 153, 55, -19]) / (2 ** 16)\n",
    "\n",
    "parAgc = {\n",
    "    'parent': parStrat,\n",
    "    'kneePt': 4.476,\n",
    "    'compRatio': 12,\n",
    "    'tauRelFast': -8 / (17400 * np.log(.9901)) * 1000,\n",
    "    'tauAttFast': -8 / (17400 * np.log(.25)) * 1000,\n",
    "    'tauRelSlow': -8 / (17400 * np.log(.9988)) * 1000,\n",
    "    'tauAttSlow': -8 / (17400 * np.log(.9967)) * 1000,\n",
    "    'maxHold': 1305,\n",
    "    'g0': 6.908,\n",
    "    'fastThreshRel': 8,\n",
    "    'cSlowInit': 0.5e-3,\n",
    "    'cFastInit': 0.5e-3,\n",
    "    'controlMode': 'naida',\n",
    "    'clipMode': 'limit',\n",
    "    'decFact': 8,\n",
    "    'envBufLen': 32,\n",
    "    'gainBufLen': 16,\n",
    "    'envCoefs': envCoefs\n",
    "}\n",
    "\n",
    "parWinBuf = {\n",
    "    'parent': parStrat,\n",
    "    'bufOpt': []\n",
    "}\n",
    "\n",
    "parFft = {\n",
    "    'parent': parStrat,\n",
    "    'combineDcNy': False,\n",
    "    'compensateFftLength': False,\n",
    "    'includeNyquistBin': False\n",
    "}\n",
    "\n",
    "parHilbert = {\n",
    "    'parent': parStrat,\n",
    "    'outputOffset': 0,\n",
    "    'outputLowerBound': 0,\n",
    "    'outputUpperBound': np.inf\n",
    "}\n",
    "\n",
    "parEnergy = {\n",
    "    'parent': parStrat,\n",
    "    'gainDomain': 'linear'\n",
    "}\n",
    "\n",
    "parNoiseReduction = {\n",
    "    'parent': parStrat,\n",
    "    'gainDomain': 'log2',\n",
    "    'tau_speech': .0258,\n",
    "    'tau_noise': .219,\n",
    "    'threshHold': 3,\n",
    "    'durHold': 1.6,\n",
    "    'maxAtt': -12,\n",
    "    'snrFloor': -2,\n",
    "    'snrCeil': 45,\n",
    "    'snrSlope': 6.5,\n",
    "    'slopeFact': 0.2,\n",
    "    'noiseEstDecimation': 1,\n",
    "    'enableContinuous': False,\n",
    "    'initState': {'V_s': -30 * np.ones((15, 1)), 'V_n': -30 * np.ones((15, 1))},\n",
    "}\n",
    "\n",
    "parPeak = {\n",
    "    'parent': parStrat,\n",
    "    'binToLocMap': np.concatenate((np.zeros(6, ), np.array([256, 640, 896, 1280, 1664, 1920, 2176,\n",
    "                                                            # 1 x nBin vector of nominal cochlear locations for the center frequencies of each STFT bin\n",
    "                                                            2432, 2688, 2944, 3157, 3328, 3499, 3648, 3776, 3904,\n",
    "                                                            4032,  # values from 0 .. 15 in Q9 format\n",
    "                                                            4160, 4288, 4416, 4544, 4659, 4762, 4864, 4966, 5069,\n",
    "                                                            5163,\n",
    "                                                            # corresponding to the nominal steering location for each\n",
    "                                                            5248, 5333, 5419, 5504, 5589, 5669, 5742, 5815, 5888,\n",
    "                                                            5961,  # FFT bin\n",
    "                                                            6034, 6107, 6176, 6240, 6304, 6368, 6432, 6496, 6560,\n",
    "                                                            6624,\n",
    "                                                            6682, 6733, 6784, 6835, 6886, 6938, 6989, 7040, 7091,\n",
    "                                                            7142,\n",
    "                                                            7189, 7232, 7275, 7317, 7360, 7403, 7445, 7488, 7531,\n",
    "                                                            7573,\n",
    "                                                            7616, 7659]), 7679 * np.ones((53,)))) / 512\n",
    "}\n",
    "\n",
    "parSteer = {\n",
    "    'parent': parStrat,\n",
    "    'nDiscreteSteps': 9,\n",
    "    'steeringRange': 1.0\n",
    "}\n",
    "\n",
    "parCarrierSynth = {\n",
    "    'parent': parStrat,\n",
    "    'fModOn': .5,\n",
    "    'fModOff': 1.0,\n",
    "    'maxModDepth': 1.0,\n",
    "    'deltaPhaseMax': 0.5\n",
    "}\n",
    "\n",
    "parMapper = {\n",
    "    'parent': parStrat,\n",
    "    'mapM': 500 * np.ones(16),\n",
    "    'mapT': 50 * np.ones(16),\n",
    "    'mapIdr': 60 * np.ones(16),\n",
    "    'mapGain': 0 * np.ones(16),\n",
    "    'mapClip': 2048 * np.ones(16),\n",
    "    'chanToElecPair': np.arange(16),\n",
    "    'carrierMode': 1\n",
    "}\n",
    "\n",
    "parElectrodogram = {\n",
    "    'parent': parStrat,\n",
    "    'cathodicFirst': True,\n",
    "    'channelOrder': np.array([1, 5, 9, 13, 2, 6, 10, 14, 3, 7, 11, 15, 4, 8, 12]),\n",
    "# DO NOT CHANGE (different order of pulses will have no effect in vocoder output)\n",
    "    'enablePlot': True,\n",
    "    'outputFs': 55556,\n",
    "# DO NOT CHANGE (validation depends on matched output rate, vocoder would not produce different results at higher or lower Fs when parameters match accordingly)\n",
    "}\n",
    "\n",
    "parValidate = {\n",
    "    'parent': parStrat,\n",
    "    'lengthTolerance': 50,\n",
    "    'saveIfSimilar': True,  # save even if the are too similar to default strategy\n",
    "    'differenceThreshold': 1,\n",
    "    'maxSimilarChannels': 8,\n",
    "    'elGramFs': parElectrodogram['outputFs'],\n",
    "# this is linked to the previous electrodogram generation step, it should always match [55556 Hz]\n",
    "    'outFile': None\n",
    "# This should be the full path including filename to a location where electrode matrix output will be saved after validation\n",
    "}"
   ]
  },
  {
   "cell_type": "markdown",
   "metadata": {},
   "source": [
    "# step by step \n",
    "In the default alogorithm, there are two types of operations: those that simply rescale and modulate the original wave file, and those that perform more complex operations\n",
    "\n",
    "import\n",
    "* readWavFunc (1, 90480)\n",
    "\n",
    "simple preprocessing\n",
    "* tdFilterFunc (1, 90480)\n",
    "* dualLoopTdAgcFunc (1, 90479)\n",
    "\n",
    "\n",
    "complex processes\n",
    "* winBufFunc (256, 4524)\n",
    "* fftFilterbankFunc (128, 4524)\n",
    "* hilbertEnvelopeFunc (15, 4524)\n",
    "\n",
    "new simple processes\n",
    "* channelEnergyFunc (15, 4524)\n",
    "* noiseReductionFunc (15, 4524)\n",
    "*\n",
    "\n",
    "synthesis function (bringing together peak finding operations and hlibert envelope)\n",
    "* f120MappingFunc (30, 9629)\n",
    "\n",
    "\n",
    "final result\n",
    "* f120ElectrodogramFunc (16, 288872)"
   ]
  },
  {
   "cell_type": "markdown",
   "metadata": {},
   "source": [
    "# Loading in simple wav"
   ]
  },
  {
   "cell_type": "code",
   "execution_count": 14,
   "metadata": {},
   "outputs": [],
   "source": [
    "results = {}  # initialize demo results structure\n",
    "\n",
    "# read specified wav file and scale\n",
    "results['sig_smp_wavIn'], results['sourceName'] = readWavFunc(\n",
    "    parReadWav)  # load the file specified in parReadWav; assume correct scaling in wav file (111.6 dB SPL peak full-scale)\n"
   ]
  },
  {
   "cell_type": "code",
   "execution_count": 27,
   "metadata": {},
   "outputs": [
    {
     "data": {
      "text/plain": [
       "(1, 90480)"
      ]
     },
     "execution_count": 27,
     "metadata": {},
     "output_type": "execute_result"
    }
   ],
   "source": [
    "results['sig_smp_wavIn'].shape"
   ]
  },
  {
   "cell_type": "markdown",
   "metadata": {},
   "source": [
    "# applying premphesis"
   ]
  },
  {
   "cell_type": "code",
   "execution_count": 16,
   "metadata": {},
   "outputs": [],
   "source": [
    "results['sig_smp_wavPre'] = tdFilterFunc(parPre, results['sig_smp_wavIn'])"
   ]
  },
  {
   "cell_type": "code",
   "execution_count": 28,
   "metadata": {},
   "outputs": [
    {
     "data": {
      "text/plain": [
       "(1, 90480)"
      ]
     },
     "execution_count": 28,
     "metadata": {},
     "output_type": "execute_result"
    }
   ],
   "source": [
    "results['sig_smp_wavPre'].shape"
   ]
  },
  {
   "cell_type": "markdown",
   "metadata": {},
   "source": [
    "# applying gain control"
   ]
  },
  {
   "cell_type": "code",
   "execution_count": 18,
   "metadata": {},
   "outputs": [],
   "source": [
    "results['agc'] = dualLoopTdAgcFunc(parAgc, results['sig_smp_wavPre'])  # agc\n"
   ]
  },
  {
   "cell_type": "code",
   "execution_count": 30,
   "metadata": {},
   "outputs": [
    {
     "data": {
      "text/plain": [
       "(1, 90479)"
      ]
     },
     "execution_count": 30,
     "metadata": {},
     "output_type": "execute_result"
    }
   ],
   "source": [
    "results['agc']['wavOut'].shape"
   ]
  },
  {
   "cell_type": "code",
   "execution_count": 20,
   "metadata": {},
   "outputs": [
    {
     "data": {
      "text/plain": [
       "{'Env': array([0.00000000e+00, 0.00000000e+00, 0.00000000e+00, ...,\n",
       "        5.69692674e-06, 5.96758486e-06, 5.55531295e-06]),\n",
       " 'CSlow': array([0.00067914, 0.00067914, 0.00067914, ..., 0.00067914, 0.00067914,\n",
       "        0.00067914]),\n",
       " 'CFast': array([0.00049505, 0.00049015, 0.0004853 , ..., 0.00021476, 0.00021476,\n",
       "        0.00021476]),\n",
       " 'C': array([0.00067914, 0.00067914, 0.00067914, ..., 0.00067914, 0.00067914,\n",
       "        0.00067914]),\n",
       " 'G': array([120.09231315, 120.09231315, 120.09231315, ..., 120.09231315,\n",
       "        120.09231315, 120.09231315]),\n",
       " 'Hold': array([0., 0., 0., ..., 0., 0., 0.]),\n",
       " 'State': array([0., 0., 0., ..., 0., 0., 0.]),\n",
       " 'EnvFast': array([0.00000000e+00, 0.00000000e+00, 0.00000000e+00, ...,\n",
       "        2.26798738e-06, 2.37573832e-06, 2.21160992e-06]),\n",
       " 'smpGain': array([[ 15.01153914,  22.51730872,  30.02307829, ..., 120.09231315,\n",
       "         120.09231315, 120.09231315]]),\n",
       " 'wavOut': array([[ 0.00000000e+00,  0.00000000e+00,  0.00000000e+00, ...,\n",
       "         -1.22693543e-03, -2.38943425e-03,  5.91203942e-06]])}"
      ]
     },
     "execution_count": 20,
     "metadata": {},
     "output_type": "execute_result"
    }
   ],
   "source": [
    "dualLoopTdAgcFunc(parAgc, results['sig_smp_wavIn'])"
   ]
  },
  {
   "cell_type": "code",
   "execution_count": 32,
   "metadata": {},
   "outputs": [],
   "source": [
    "results['sig_frm_audBuffers'] = winBufFunc(parWinBuf, results['agc']['wavOut'])"
   ]
  },
  {
   "cell_type": "code",
   "execution_count": 34,
   "metadata": {},
   "outputs": [
    {
     "data": {
      "text/plain": [
       "(256, 4524)"
      ]
     },
     "execution_count": 34,
     "metadata": {},
     "output_type": "execute_result"
    }
   ],
   "source": [
    "results['sig_frm_audBuffers'].shape"
   ]
  },
  {
   "cell_type": "code",
   "execution_count": 24,
   "metadata": {},
   "outputs": [
    {
     "data": {
      "text/plain": [
       "(1, 90479)"
      ]
     },
     "execution_count": 24,
     "metadata": {},
     "output_type": "execute_result"
    }
   ],
   "source": [
    "results['agc']['wavOut'].shape"
   ]
  },
  {
   "cell_type": "code",
   "execution_count": 26,
   "metadata": {},
   "outputs": [
    {
     "data": {
      "text/plain": [
       "(1, 90480)"
      ]
     },
     "execution_count": 26,
     "metadata": {},
     "output_type": "execute_result"
    }
   ],
   "source": [
    "results['sig_smp_wavPre'].shape"
   ]
  },
  {
   "cell_type": "code",
   "execution_count": 33,
   "metadata": {},
   "outputs": [],
   "source": [
    "results['sig_frm_fft'] = fftFilterbankFunc(parFft, results['sig_frm_audBuffers'])"
   ]
  },
  {
   "cell_type": "code",
   "execution_count": 35,
   "metadata": {},
   "outputs": [
    {
     "data": {
      "text/plain": [
       "(128, 4524)"
      ]
     },
     "execution_count": 35,
     "metadata": {},
     "output_type": "execute_result"
    }
   ],
   "source": [
    "results['sig_frm_fft'].shape"
   ]
  },
  {
   "cell_type": "code",
   "execution_count": 36,
   "metadata": {},
   "outputs": [
    {
     "name": "stderr",
     "output_type": "stream",
     "text": [
      "/Users/nicholas.rossi/Documents/Personal/Cochlear_Implant_Hackathon/software/AB_imports/Filterbank/hilbertEnvelope.py:73: RuntimeWarning: divide by zero encountered in log2\n",
      "  env[i,:] = np.log2(env[i,:]);\n"
     ]
    }
   ],
   "source": [
    "results['sig_frm_hilbert'] = hilbertEnvelopeFunc(parHilbert, results['sig_frm_fft']) "
   ]
  },
  {
   "cell_type": "code",
   "execution_count": 37,
   "metadata": {},
   "outputs": [
    {
     "data": {
      "text/plain": [
       "(15, 4524)"
      ]
     },
     "execution_count": 37,
     "metadata": {},
     "output_type": "execute_result"
    }
   ],
   "source": [
    "results['sig_frm_hilbert'].shape"
   ]
  },
  {
   "cell_type": "code",
   "execution_count": 38,
   "metadata": {},
   "outputs": [],
   "source": [
    "results['sig_frm_energy'] = channelEnergyFunc(parEnergy, results['sig_frm_fft'],\n",
    "                                                  results['agc']['smpGain'])"
   ]
  },
  {
   "cell_type": "code",
   "execution_count": 39,
   "metadata": {},
   "outputs": [
    {
     "data": {
      "text/plain": [
       "(15, 4524)"
      ]
     },
     "execution_count": 39,
     "metadata": {},
     "output_type": "execute_result"
    }
   ],
   "source": [
    "results['sig_frm_energy'].shape"
   ]
  },
  {
   "cell_type": "code",
   "execution_count": 41,
   "metadata": {},
   "outputs": [
    {
     "name": "stderr",
     "output_type": "stream",
     "text": [
      "/Users/nicholas.rossi/Documents/Personal/Cochlear_Implant_Hackathon/software/AB_imports/NoiseReduction/noiseReduction.py:76: RuntimeWarning: divide by zero encountered in log10\n",
      "  logA = np.maximum(-100,20*np.log10(A))\n"
     ]
    }
   ],
   "source": [
    "results['sig_frm_gainNr'] = noiseReductionFunc(parNoiseReduction, results['sig_frm_energy'])[0]"
   ]
  },
  {
   "cell_type": "code",
   "execution_count": 42,
   "metadata": {},
   "outputs": [
    {
     "data": {
      "text/plain": [
       "(15, 4524)"
      ]
     },
     "execution_count": 42,
     "metadata": {},
     "output_type": "execute_result"
    }
   ],
   "source": [
    "results['sig_frm_gainNr'].shape"
   ]
  },
  {
   "cell_type": "code",
   "execution_count": 43,
   "metadata": {},
   "outputs": [],
   "source": [
    "results['sig_frm_hilbertMod'] = results['sig_frm_hilbert'] + results[\n",
    "    'sig_frm_gainNr']"
   ]
  },
  {
   "cell_type": "code",
   "execution_count": 44,
   "metadata": {},
   "outputs": [],
   "source": [
    "results['sig_3frm_fft'] = results['sig_frm_fft'][:, 2::3]"
   ]
  },
  {
   "cell_type": "code",
   "execution_count": 45,
   "metadata": {},
   "outputs": [
    {
     "data": {
      "text/plain": [
       "(128, 1508)"
      ]
     },
     "execution_count": 45,
     "metadata": {},
     "output_type": "execute_result"
    }
   ],
   "source": [
    "results['sig_3frm_fft'].shape"
   ]
  },
  {
   "cell_type": "code",
   "execution_count": 46,
   "metadata": {},
   "outputs": [
    {
     "data": {
      "text/plain": [
       "(15, 4524)"
      ]
     },
     "execution_count": 46,
     "metadata": {},
     "output_type": "execute_result"
    }
   ],
   "source": [
    "results['sig_frm_hilbertMod'].shape"
   ]
  },
  {
   "cell_type": "code",
   "execution_count": 48,
   "metadata": {},
   "outputs": [],
   "source": [
    "results['sig_3frm_fft'] = results['sig_frm_fft'][:, 2::3]\n",
    "\n",
    "# find spectral peaks\n",
    "results['sig_3frm_peakFreq'], results['sig_3frm_peakLoc'] = specPeakLocatorFunc(parPeak, results['sig_3frm_fft'])\n",
    "\n",
    "# upsample back to full framerate (and add padding)\n",
    "results['sig_frm_peakFreq'] = np.repeat(np.repeat(results['sig_3frm_peakFreq'], 1, axis=0), 3, axis=1)\n",
    "results['sig_frm_peakFreq'] = np.concatenate(\n",
    "    (np.zeros((results['sig_frm_peakFreq'].shape[0], 2)), results['sig_frm_peakFreq']), axis=1)\n",
    "results['sig_frm_peakFreq'] = results['sig_frm_peakFreq'][:, :results['sig_frm_fft'].shape[1]]\n",
    "results['sig_frm_peakLoc'] = np.repeat(np.repeat(results['sig_3frm_peakLoc'], 1, axis=0), 3, axis=1)\n",
    "results['sig_frm_peakLoc'] = np.concatenate(\n",
    "    (np.zeros((results['sig_frm_peakLoc'].shape[0], 2)), results['sig_frm_peakLoc']), axis=1)\n",
    "results['sig_frm_peakLoc'] = results['sig_frm_peakLoc'][:, :results['sig_frm_fft'].shape[1]]\n",
    "\n",
    "# Calculate current steering weights and synthesize the carrier signals\n",
    "results['sig_frm_steerWeights'] = currentSteeringWeightsFunc(parSteer, results[\n",
    "    'sig_frm_peakLoc'])  # steer current based on peak location\n",
    "results['sig_ft_carrier'], results['sig_ft_idxFtToFrm'] = carrierSynthesisFunc(parCarrierSynth, results[\n",
    "    'sig_frm_peakFreq'])  # carrier synthesis based on peak frequencies\n",
    "\n",
    "# map to f120 stimulation strategy\n",
    "results['sig_ft_ampWords'] = f120MappingFunc(parMapper, results['sig_ft_carrier'],\n",
    "                                             # combine envelopes, carrier, current steering weights and compute outputs\n",
    "                                             results['sig_frm_hilbertMod'], results['sig_frm_steerWeights'],\n",
    "                                             results['sig_ft_idxFtToFrm'])\n",
    "\n",
    "# convert amplitude words to simulated electrodogram for vocoder imput\n",
    "results['elGram'] = f120ElectrodogramFunc(parElectrodogram, results['sig_ft_ampWords'])"
   ]
  },
  {
   "cell_type": "code",
   "execution_count": 49,
   "metadata": {},
   "outputs": [
    {
     "data": {
      "text/plain": [
       "(16, 288872)"
      ]
     },
     "execution_count": 49,
     "metadata": {},
     "output_type": "execute_result"
    }
   ],
   "source": [
    "results['elGram'].shape"
   ]
  },
  {
   "cell_type": "code",
   "execution_count": 50,
   "metadata": {},
   "outputs": [
    {
     "data": {
      "text/plain": [
       "(30, 9629)"
      ]
     },
     "execution_count": 50,
     "metadata": {},
     "output_type": "execute_result"
    }
   ],
   "source": [
    "results['sig_ft_ampWords'].shape"
   ]
  },
  {
   "cell_type": "code",
   "execution_count": 54,
   "metadata": {},
   "outputs": [
    {
     "data": {
      "text/plain": [
       "(15, 9629)"
      ]
     },
     "execution_count": 54,
     "metadata": {},
     "output_type": "execute_result"
    }
   ],
   "source": [
    "results['sig_ft_carrier'].shape"
   ]
  },
  {
   "cell_type": "code",
   "execution_count": 56,
   "metadata": {},
   "outputs": [
    {
     "data": {
      "text/plain": [
       "(16, 288872)"
      ]
     },
     "execution_count": 56,
     "metadata": {},
     "output_type": "execute_result"
    }
   ],
   "source": [
    "results['elGram'].shape"
   ]
  },
  {
   "cell_type": "markdown",
   "metadata": {},
   "source": [
    "# How does the input shape transoform to the output shape?"
   ]
  },
  {
   "cell_type": "code",
   "execution_count": 58,
   "metadata": {},
   "outputs": [],
   "source": [
    "input_wav_shape=results['sig_smp_wavIn'].shape\n",
    "output_elgram_shape=results['elGram'].shape"
   ]
  },
  {
   "cell_type": "code",
   "execution_count": 59,
   "metadata": {},
   "outputs": [
    {
     "data": {
      "text/plain": [
       "(16, 288872)"
      ]
     },
     "execution_count": 59,
     "metadata": {},
     "output_type": "execute_result"
    }
   ],
   "source": [
    "implant_internal_audio_rate=17400\n",
    "output_elgram_rate=55556"
   ]
  },
  {
   "cell_type": "code",
   "execution_count": 62,
   "metadata": {},
   "outputs": [
    {
     "data": {
      "text/plain": [
       "{'sig_smp_wavIn': array([[ 0.00000000e+00,  0.00000000e+00,  0.00000000e+00, ...,\n",
       "         -1.77670478e-05, -6.26945669e-06, -9.32084686e-06]]),\n",
       " 'sourceName': '/Users/nicholas.rossi/Documents/Personal/Cochlear_Implant_Hackathon/sample_data/sentence1_55_clean.wav',\n",
       " 'sig_smp_wavPre': array([[ 0.00000000e+00,  0.00000000e+00,  0.00000000e+00, ...,\n",
       "         -3.23234051e-06,  7.20988513e-06,  1.60774174e-06]]),\n",
       " 'agc': {'Env': array([0.00000000e+00, 0.00000000e+00, 0.00000000e+00, ...,\n",
       "         2.46788149e-06, 2.51419197e-06, 2.96150599e-06]),\n",
       "  'CSlow': array([0.00067914, 0.00067914, 0.00067914, ..., 0.00067914, 0.00067914,\n",
       "         0.00067914]),\n",
       "  'CFast': array([0.00049505, 0.00049015, 0.0004853 , ..., 0.00021476, 0.00021476,\n",
       "         0.00021476]),\n",
       "  'C': array([0.00067914, 0.00067914, 0.00067914, ..., 0.00067914, 0.00067914,\n",
       "         0.00067914]),\n",
       "  'G': array([120.09231315, 120.09231315, 120.09231315, ..., 120.09231315,\n",
       "         120.09231315, 120.09231315]),\n",
       "  'Hold': array([0., 0., 0., ..., 0., 0., 0.]),\n",
       "  'State': array([0., 0., 0., ..., 0., 0., 0.]),\n",
       "  'EnvFast': array([0.00000000e+00, 0.00000000e+00, 0.00000000e+00, ...,\n",
       "         9.82481319e-07, 1.00091785e-06, 1.17899677e-06]),\n",
       "  'smpGain': array([[ 15.01153914,  22.51730872,  30.02307829, ..., 120.09231315,\n",
       "          120.09231315, 120.09231315]]),\n",
       "  'wavOut': array([[ 0.        ,  0.        ,  0.        , ...,  0.0002067 ,\n",
       "          -0.00077756,  0.00143297]])},\n",
       " 'sig_frm_audBuffers': array([[-0.00000000e+00, -0.00000000e+00, -0.00000000e+00, ...,\n",
       "         -1.10410753e-21, -1.08362803e-21,  2.02214401e-21],\n",
       "        [ 0.00000000e+00,  0.00000000e+00,  0.00000000e+00, ...,\n",
       "         -2.31843010e-08, -4.48318092e-08, -1.19904567e-07],\n",
       "        [ 0.00000000e+00,  0.00000000e+00,  0.00000000e+00, ...,\n",
       "          3.79818094e-07, -6.17484599e-08,  6.01312219e-07],\n",
       "        ...,\n",
       "        [ 0.00000000e+00,  0.00000000e+00,  0.00000000e+00, ...,\n",
       "         -2.32887177e-07,  4.96113414e-07, -3.21038081e-07],\n",
       "        [ 0.00000000e+00,  0.00000000e+00,  0.00000000e+00, ...,\n",
       "          1.62406931e-07, -3.56087363e-09,  1.47902594e-07],\n",
       "        [-0.00000000e+00, -0.00000000e+00, -0.00000000e+00, ...,\n",
       "          2.57522403e-22,  6.94072646e-21, -0.00000000e+00]]),\n",
       " 'sig_frm_fft': array([[ 0.00000000e+00+0.00000000e+00j,  0.00000000e+00+0.00000000e+00j,\n",
       "          0.00000000e+00+0.00000000e+00j, ...,\n",
       "         -5.72935618e-05+0.00000000e+00j, -2.52853479e-05+0.00000000e+00j,\n",
       "          6.78378223e-05+0.00000000e+00j],\n",
       "        [ 0.00000000e+00+0.00000000e+00j,  0.00000000e+00+0.00000000e+00j,\n",
       "          0.00000000e+00+0.00000000e+00j, ...,\n",
       "          3.00291761e-04+6.12137269e-05j,  1.10063632e-04+2.89732024e-04j,\n",
       "         -1.54607525e-04+2.77408654e-04j],\n",
       "        [ 0.00000000e+00+0.00000000e+00j,  0.00000000e+00+0.00000000e+00j,\n",
       "          0.00000000e+00+0.00000000e+00j, ...,\n",
       "         -8.67257476e-04+6.76769569e-05j, -4.02246617e-04-8.52797323e-04j,\n",
       "          6.71949491e-04-6.21456164e-04j],\n",
       "        ...,\n",
       "        [ 0.00000000e+00+0.00000000e+00j,  0.00000000e+00+0.00000000e+00j,\n",
       "          0.00000000e+00+0.00000000e+00j, ...,\n",
       "          1.90663101e-03+4.90021977e-04j, -1.49031826e-03-1.19816340e-03j,\n",
       "         -5.25560808e-04+3.14956870e-03j],\n",
       "        [ 0.00000000e+00+0.00000000e+00j,  0.00000000e+00+0.00000000e+00j,\n",
       "          0.00000000e+00+0.00000000e+00j, ...,\n",
       "          2.06993378e-03-1.10820359e-03j,  3.51396654e-04-2.17618557e-03j,\n",
       "         -1.69098962e-03-1.43885882e-03j],\n",
       "        [ 0.00000000e+00+0.00000000e+00j,  0.00000000e+00+0.00000000e+00j,\n",
       "          0.00000000e+00+0.00000000e+00j, ...,\n",
       "         -1.38122338e-03+2.58169714e-04j, -4.86602725e-04+1.06241760e-03j,\n",
       "          4.90595013e-04+7.81811478e-04j]]),\n",
       " 'sig_frm_hilbert': array([[0.        , 0.        , 0.        , ..., 0.        , 0.        ,\n",
       "         0.        ],\n",
       "        [0.        , 0.        , 0.        , ..., 0.59037763, 1.58283185,\n",
       "         2.22846817],\n",
       "        [0.        , 0.        , 0.        , ..., 0.        , 0.48399508,\n",
       "         1.58346903],\n",
       "        ...,\n",
       "        [0.        , 0.        , 0.        , ..., 4.75599318, 5.32099195,\n",
       "         5.68256708],\n",
       "        [0.        , 0.        , 0.        , ..., 7.50451362, 6.64924677,\n",
       "         5.75387849],\n",
       "        [0.        , 0.        , 0.        , ..., 9.30202887, 9.20047248,\n",
       "         8.96957903]]),\n",
       " 'sig_frm_energy': array([[0.00000000e+00, 0.00000000e+00, 0.00000000e+00, ...,\n",
       "         1.96091395e-05, 1.58781557e-05, 1.57445303e-05],\n",
       "        [0.00000000e+00, 0.00000000e+00, 0.00000000e+00, ...,\n",
       "         2.34216899e-05, 3.03832213e-05, 3.72097213e-05],\n",
       "        [0.00000000e+00, 0.00000000e+00, 0.00000000e+00, ...,\n",
       "         7.12981792e-06, 1.80663615e-05, 2.64458795e-05],\n",
       "        ...,\n",
       "        [0.00000000e+00, 0.00000000e+00, 0.00000000e+00, ...,\n",
       "         1.34558132e-04, 1.31215397e-04, 1.29670372e-04],\n",
       "        [0.00000000e+00, 0.00000000e+00, 0.00000000e+00, ...,\n",
       "         2.54944204e-04, 2.16652806e-04, 1.77167797e-04],\n",
       "        [0.00000000e+00, 0.00000000e+00, 0.00000000e+00, ...,\n",
       "         5.09895801e-04, 5.05865084e-04, 4.91205927e-04]]),\n",
       " 'sig_frm_gainNr': array([[-3.98631371, -3.98631371, -3.98631371, ..., -3.01521769,\n",
       "         -3.05496586, -3.09379796],\n",
       "        [-3.98631371, -3.98631371, -3.98631371, ..., -3.38262548,\n",
       "         -3.37172031, -3.33967812],\n",
       "        [-3.98631371, -3.98631371, -3.98631371, ..., -3.3916931 ,\n",
       "         -3.40835066, -3.38354057],\n",
       "        ...,\n",
       "        [-3.98631371, -3.98631371, -3.98631371, ..., -3.32075604,\n",
       "         -3.3365429 , -3.35284306],\n",
       "        [-3.98631371, -3.98631371, -3.98631371, ..., -3.22491399,\n",
       "         -3.21255215, -3.22244282],\n",
       "        [-3.98631371, -3.98631371, -3.98631371, ..., -3.3339641 ,\n",
       "         -3.32307453, -3.31588494]]),\n",
       " 'sig_frm_hilbertMod': array([[-3.98631371, -3.98631371, -3.98631371, ..., -3.01521769,\n",
       "         -3.05496586, -3.09379796],\n",
       "        [-3.98631371, -3.98631371, -3.98631371, ..., -2.79224785,\n",
       "         -1.78888846, -1.11120995],\n",
       "        [-3.98631371, -3.98631371, -3.98631371, ..., -3.3916931 ,\n",
       "         -2.92435558, -1.80007154],\n",
       "        ...,\n",
       "        [-3.98631371, -3.98631371, -3.98631371, ...,  1.43523714,\n",
       "          1.98444904,  2.32972401],\n",
       "        [-3.98631371, -3.98631371, -3.98631371, ...,  4.27959962,\n",
       "          3.43669462,  2.53143567],\n",
       "        [-3.98631371, -3.98631371, -3.98631371, ...,  5.96806477,\n",
       "          5.87739795,  5.65369408]]),\n",
       " 'sig_3frm_fft': array([[ 0.00000000e+00+0.j        ,  0.00000000e+00+0.j        ,\n",
       "          0.00000000e+00+0.j        , ..., -6.70880078e-05+0.j        ,\n",
       "         -5.97928986e-05+0.j        ,  6.78378223e-05+0.j        ],\n",
       "        [ 0.00000000e+00+0.j        ,  0.00000000e+00+0.j        ,\n",
       "          0.00000000e+00+0.j        , ...,  3.35580483e-05+0.0002213j ,\n",
       "          1.90807160e-04-0.00020515j, -1.54607525e-04+0.00027741j],\n",
       "        [ 0.00000000e+00+0.j        ,  0.00000000e+00+0.j        ,\n",
       "          0.00000000e+00+0.j        , ...,  9.48498537e-05-0.00068374j,\n",
       "         -2.35978111e-04+0.00072854j,  6.71949491e-04-0.00062146j],\n",
       "        ...,\n",
       "        [ 0.00000000e+00+0.j        ,  0.00000000e+00+0.j        ,\n",
       "          0.00000000e+00+0.j        , ...,  1.16099269e-03+0.00444549j,\n",
       "         -2.50984659e-03+0.0025442j , -5.25560808e-04+0.00314957j],\n",
       "        [ 0.00000000e+00+0.j        ,  0.00000000e+00+0.j        ,\n",
       "          0.00000000e+00+0.j        , ..., -2.57319316e-03-0.00141072j,\n",
       "          2.41035461e-03+0.00128804j, -1.69098962e-03-0.00143886j],\n",
       "        [ 0.00000000e+00+0.j        ,  0.00000000e+00+0.j        ,\n",
       "          0.00000000e+00+0.j        , ...,  1.40784373e-03+0.00068274j,\n",
       "         -1.10727728e-03-0.00098765j,  4.90595013e-04+0.00078181j]]),\n",
       " 'sig_3frm_peakFreq': array([[ 339.84375   ,  339.84375   ,  339.84375   , ...,  373.60982484,\n",
       "          348.52647039,  305.859375  ],\n",
       "        [ 475.78125   ,  475.78125   ,  475.78125   , ...,  577.734375  ,\n",
       "          543.75      ,  558.05613139],\n",
       "        [ 611.71875   ,  611.71875   ,  611.71875   , ...,  609.74921992,\n",
       "          577.734375  ,  577.734375  ],\n",
       "        ...,\n",
       "        [3058.59375   , 3058.59375   , 3058.59375   , ..., 3312.60510088,\n",
       "         3024.609375  , 3136.40802358],\n",
       "        [3602.34375   , 3602.34375   , 3602.34375   , ..., 3655.34342752,\n",
       "         3679.55198453, 3657.49072331],\n",
       "        [4282.03125   , 4282.03125   , 4282.03125   , ..., 5035.1277336 ,\n",
       "         6476.13342722, 6993.05446019]]),\n",
       " 'sig_3frm_peakLoc': array([[ 0.        ,  0.        ,  0.        , ...,  0.24839411,\n",
       "          0.06387289,  0.        ],\n",
       "        [ 1.25      ,  1.25      ,  1.25      , ...,  2.125     ,\n",
       "          1.75      ,  1.90786076],\n",
       "        [ 2.5       ,  2.5       ,  2.5       , ...,  2.47826725,\n",
       "          2.125     ,  2.125     ],\n",
       "        ...,\n",
       "        [12.0625    , 12.0625    , 12.0625    , ..., 12.52964731,\n",
       "         11.99511719, 12.20560671],\n",
       "        [13.05078125, 13.05078125, 13.05078125, ..., 13.12845319,\n",
       "         13.16393125, 13.13160009],\n",
       "        [14.04101562, 14.04101562, 14.04101562, ..., 14.96211095,\n",
       "         14.99804688, 14.99804688]]),\n",
       " 'sig_frm_peakFreq': array([[   0.        ,    0.        ,  339.84375   , ...,  348.52647039,\n",
       "          348.52647039,  305.859375  ],\n",
       "        [   0.        ,    0.        ,  475.78125   , ...,  543.75      ,\n",
       "          543.75      ,  558.05613139],\n",
       "        [   0.        ,    0.        ,  611.71875   , ...,  577.734375  ,\n",
       "          577.734375  ,  577.734375  ],\n",
       "        ...,\n",
       "        [   0.        ,    0.        , 3058.59375   , ..., 3024.609375  ,\n",
       "         3024.609375  , 3136.40802358],\n",
       "        [   0.        ,    0.        , 3602.34375   , ..., 3679.55198453,\n",
       "         3679.55198453, 3657.49072331],\n",
       "        [   0.        ,    0.        , 4282.03125   , ..., 6476.13342722,\n",
       "         6476.13342722, 6993.05446019]]),\n",
       " 'sig_frm_peakLoc': array([[ 0.        ,  0.        ,  0.        , ...,  0.06387289,\n",
       "          0.06387289,  0.        ],\n",
       "        [ 0.        ,  0.        ,  1.25      , ...,  1.75      ,\n",
       "          1.75      ,  1.90786076],\n",
       "        [ 0.        ,  0.        ,  2.5       , ...,  2.125     ,\n",
       "          2.125     ,  2.125     ],\n",
       "        ...,\n",
       "        [ 0.        ,  0.        , 12.0625    , ..., 11.99511719,\n",
       "         11.99511719, 12.20560671],\n",
       "        [ 0.        ,  0.        , 13.05078125, ..., 13.16393125,\n",
       "         13.16393125, 13.13160009],\n",
       "        [ 0.        ,  0.        , 14.04101562, ..., 14.99804688,\n",
       "         14.99804688, 14.99804688]]),\n",
       " 'sig_frm_steerWeights': array([[1.   , 1.   , 1.   , ..., 0.875, 0.875, 1.   ],\n",
       "        [1.   , 1.   , 0.75 , ..., 0.25 , 0.25 , 0.125],\n",
       "        [1.   , 1.   , 0.5  , ..., 0.875, 0.875, 0.875],\n",
       "        ...,\n",
       "        [0.   , 0.   , 0.125, ..., 0.   , 0.   , 0.25 ],\n",
       "        [0.   , 0.   , 0.   , ..., 0.125, 0.125, 0.125],\n",
       "        [0.   , 0.   , 0.   , ..., 1.   , 1.   , 1.   ]]),\n",
       " 'sig_ft_carrier': array([[0., 0., 0., ..., 1., 1., 0.],\n",
       "        [0., 0., 0., ..., 0., 1., 1.],\n",
       "        [0., 0., 0., ..., 1., 0., 1.],\n",
       "        ...,\n",
       "        [0., 0., 0., ..., 1., 1., 1.],\n",
       "        [0., 0., 0., ..., 1., 1., 1.],\n",
       "        [0., 0., 0., ..., 1., 1., 1.]]),\n",
       " 'sig_ft_idxFtToFrm': array([   0,    0,    0, ..., 4522, 4522, 4523]),\n",
       " 'sig_ft_ampWords': array([[ 0.        ,  0.        ,  0.        , ...,  0.        ,\n",
       "          0.        ,  0.        ],\n",
       "        [ 0.        ,  0.        ,  0.        , ...,  0.        ,\n",
       "          0.        ,  0.        ],\n",
       "        [ 0.        ,  0.        ,  0.        , ...,  0.        ,\n",
       "          0.        ,  0.        ],\n",
       "        ...,\n",
       "        [ 0.        ,  0.        ,  0.        , ...,  0.        ,\n",
       "          0.        ,  0.        ],\n",
       "        [ 0.        ,  0.        ,  0.        , ...,  0.        ,\n",
       "          0.        ,  0.        ],\n",
       "        [ 0.        ,  0.        ,  0.        , ..., 45.37799076,\n",
       "         45.37799076, 40.32737263]]),\n",
       " 'elGram': array([[0., 0., 0., ..., 0., 0., 0.],\n",
       "        [0., 0., 0., ..., 0., 0., 0.],\n",
       "        [0., 0., 0., ..., 0., 0., 0.],\n",
       "        ...,\n",
       "        [0., 0., 0., ..., 0., 0., 0.],\n",
       "        [0., 0., 0., ..., 0., 0., 0.],\n",
       "        [0., 0., 0., ..., 0., 0., 0.]])}"
      ]
     },
     "execution_count": 62,
     "metadata": {},
     "output_type": "execute_result"
    }
   ],
   "source": [
    "results"
   ]
  },
  {
   "cell_type": "code",
   "execution_count": 63,
   "metadata": {},
   "outputs": [
    {
     "data": {
      "text/plain": [
       "array([[ 0.00000000e+00,  0.00000000e+00,  0.00000000e+00, ...,\n",
       "        -1.77670478e-05, -6.26945669e-06, -9.32084686e-06]])"
      ]
     },
     "execution_count": 63,
     "metadata": {},
     "output_type": "execute_result"
    }
   ],
   "source": [
    "results['sig_smp_wavIn']"
   ]
  },
  {
   "cell_type": "code",
   "execution_count": null,
   "metadata": {},
   "outputs": [],
   "source": []
  }
 ],
 "metadata": {
  "kernelspec": {
   "display_name": "Python 3",
   "language": "python",
   "name": "python3"
  },
  "language_info": {
   "codemirror_mode": {
    "name": "ipython",
    "version": 3
   },
   "file_extension": ".py",
   "mimetype": "text/x-python",
   "name": "python",
   "nbconvert_exporter": "python",
   "pygments_lexer": "ipython3",
   "version": "3.7.2"
  }
 },
 "nbformat": 4,
 "nbformat_minor": 2
}
